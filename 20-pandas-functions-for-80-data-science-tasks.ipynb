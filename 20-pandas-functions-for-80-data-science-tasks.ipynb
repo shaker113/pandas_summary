{
 "cells": [
  {
   "attachments": {},
   "cell_type": "markdown",
   "id": "d1e2ff92",
   "metadata": {},
   "source": [
    "# written by Youssef Hosni on [kaggle](https://www.kaggle.com/code/youssef19/20-pandas-functions-for-80-data-science-tasks/notebook#20-Pandas-Functions-for-80%-of-your-Data-Science-Tasks)\n"
   ]
  },
  {
   "cell_type": "markdown",
   "id": "a5aa9f80",
   "metadata": {
    "papermill": {
     "duration": 0.021899,
     "end_time": "2023-02-12T16:35:14.213687",
     "exception": false,
     "start_time": "2023-02-12T16:35:14.191788",
     "status": "completed"
    },
    "tags": []
   },
   "source": [
    "# 20 Pandas Functions for 80% of your Data Science Tasks\n"
   ]
  },
  {
   "cell_type": "markdown",
   "id": "47f01c74",
   "metadata": {
    "papermill": {
     "duration": 0.017672,
     "end_time": "2023-02-12T16:35:14.249643",
     "exception": false,
     "start_time": "2023-02-12T16:35:14.231971",
     "status": "completed"
    },
    "tags": []
   },
   "source": [
    "Pandas is one of the most widely used libraries in the data science community and it’s a powerful tool that can help you with data manipulation, cleaning, and analysis. Whether you’re a beginner or an experienced data scientist, this article will provide valuable insights into the most commonly used Pandas functions and how to use them practically.\n",
    "\n",
    "We will cover everything from basic data manipulation to advanced data analysis techniques, and by the end of this article, you will have a solid understanding of how to use Pandas to make your data science workflow more efficient."
   ]
  },
  {
   "cell_type": "markdown",
   "id": "21c93f30",
   "metadata": {
    "papermill": {
     "duration": 0.0177,
     "end_time": "2023-02-12T16:35:14.285461",
     "exception": false,
     "start_time": "2023-02-12T16:35:14.267761",
     "status": "completed"
    },
    "tags": []
   },
   "source": [
    "## 1. pd.read_csv()\n",
    "**pd.read_csv()** is a function in the panda's library in Python that is used to read a CSV (Comma Separated Values) file and convert it into a pandas DataFrame."
   ]
  },
  {
   "cell_type": "code",
   "execution_count": 1,
   "id": "cfdea0e7",
   "metadata": {
    "execution": {
     "iopub.execute_input": "2023-02-12T16:35:14.324686Z",
     "iopub.status.busy": "2023-02-12T16:35:14.323933Z",
     "iopub.status.idle": "2023-02-12T16:35:14.377440Z",
     "shell.execute_reply": "2023-02-12T16:35:14.376113Z"
    },
    "papermill": {
     "duration": 0.07715,
     "end_time": "2023-02-12T16:35:14.380968",
     "exception": false,
     "start_time": "2023-02-12T16:35:14.303818",
     "status": "completed"
    },
    "tags": []
   },
   "outputs": [],
   "source": [
    "import pandas as pd\n",
    "df = pd.read_csv('/kaggle/input/popular-baby-names/Popular_Baby_Names (1).csv')"
   ]
  },
  {
   "cell_type": "markdown",
   "id": "9730c58f",
   "metadata": {
    "papermill": {
     "duration": 0.018719,
     "end_time": "2023-02-12T16:35:14.418174",
     "exception": false,
     "start_time": "2023-02-12T16:35:14.399455",
     "status": "completed"
    },
    "tags": []
   },
   "source": [
    "In this example, the pd.read_csv function reads the file ‘data.csv’ and converts it into a DataFrame, which is then assigned to the variable ‘data’. The contents of the DataFrame can then be printed using the print function.\n",
    "\n",
    "It has many options like sep, header, index_col, skiprows, na_values etc.\n",
    "\n",
    "\n"
   ]
  },
  {
   "cell_type": "code",
   "execution_count": 2,
   "id": "d8666ac2",
   "metadata": {
    "execution": {
     "iopub.execute_input": "2023-02-12T16:35:14.456724Z",
     "iopub.status.busy": "2023-02-12T16:35:14.456204Z",
     "iopub.status.idle": "2023-02-12T16:35:14.488201Z",
     "shell.execute_reply": "2023-02-12T16:35:14.487110Z"
    },
    "papermill": {
     "duration": 0.054695,
     "end_time": "2023-02-12T16:35:14.491110",
     "exception": false,
     "start_time": "2023-02-12T16:35:14.436415",
     "status": "completed"
    },
    "tags": []
   },
   "outputs": [],
   "source": [
    "df_no_columns = pd.read_csv('/kaggle/input/popular-baby-names/Popular_Baby_Names (1).csv', sep=';', header=0, index_col=0, skiprows=5, na_values='N/A')"
   ]
  },
  {
   "cell_type": "markdown",
   "id": "fdca4492",
   "metadata": {
    "papermill": {
     "duration": 0.018137,
     "end_time": "2023-02-12T16:35:14.528308",
     "exception": false,
     "start_time": "2023-02-12T16:35:14.510171",
     "status": "completed"
    },
    "tags": []
   },
   "source": [
    "This example reads the CSV file data.csv, with ; as a separator, the first row as the header, the first column as an index, skipping the first 5 rows and replacing N/A with NaN.\n",
    "\n"
   ]
  },
  {
   "attachments": {},
   "cell_type": "markdown",
   "id": "e6225780",
   "metadata": {
    "papermill": {
     "duration": 0.017968,
     "end_time": "2023-02-12T16:35:14.565233",
     "exception": false,
     "start_time": "2023-02-12T16:35:14.547265",
     "status": "completed"
    },
    "tags": []
   },
   "source": [
    "## 2. df.describe()\n",
    "\n",
    "The **df.describe()** method in pandas is used to generate summary statistics of various features of a DataFrame. It returns a new DataFrame that contains the count, mean, standard deviation, minimum, 25th percentile, median, 75th percentile, and maximum of each numerical column in the original DataFrame."
   ]
  },
  {
   "cell_type": "code",
   "execution_count": 3,
   "id": "efb63749",
   "metadata": {
    "execution": {
     "iopub.execute_input": "2023-02-12T16:35:14.605062Z",
     "iopub.status.busy": "2023-02-12T16:35:14.603716Z",
     "iopub.status.idle": "2023-02-12T16:35:14.635810Z",
     "shell.execute_reply": "2023-02-12T16:35:14.634272Z"
    },
    "papermill": {
     "duration": 0.056564,
     "end_time": "2023-02-12T16:35:14.640168",
     "exception": false,
     "start_time": "2023-02-12T16:35:14.583604",
     "status": "completed"
    },
    "scrolled": true,
    "tags": []
   },
   "outputs": [
    {
     "name": "stdout",
     "output_type": "stream",
     "text": [
      "       Year of Birth         Count          Rank\n",
      "count   11345.000000  11345.000000  11345.000000\n",
      "mean     2013.552578     32.836844     57.656765\n",
      "std         1.746367     36.981866     25.186882\n",
      "min      2011.000000     10.000000      1.000000\n",
      "25%      2012.000000     13.000000     38.000000\n",
      "50%      2014.000000     20.000000     59.000000\n",
      "75%      2015.000000     35.000000     79.000000\n",
      "max      2016.000000    387.000000    102.000000\n"
     ]
    }
   ],
   "source": [
    "print(df.describe())"
   ]
  },
  {
   "cell_type": "markdown",
   "id": "01024b85",
   "metadata": {
    "papermill": {
     "duration": 0.019799,
     "end_time": "2023-02-12T16:35:14.680688",
     "exception": false,
     "start_time": "2023-02-12T16:35:14.660889",
     "status": "completed"
    },
    "tags": []
   },
   "source": [
    "You can also include or exclude certain columns and also include non-numerical columns by passing appropriate arguments to the method.\n",
    "\n"
   ]
  },
  {
   "cell_type": "code",
   "execution_count": 4,
   "id": "b1a25466",
   "metadata": {
    "execution": {
     "iopub.execute_input": "2023-02-12T16:35:14.720930Z",
     "iopub.status.busy": "2023-02-12T16:35:14.720431Z",
     "iopub.status.idle": "2023-02-12T16:35:14.761835Z",
     "shell.execute_reply": "2023-02-12T16:35:14.760752Z"
    },
    "papermill": {
     "duration": 0.064398,
     "end_time": "2023-02-12T16:35:14.764596",
     "exception": false,
     "start_time": "2023-02-12T16:35:14.700198",
     "status": "completed"
    },
    "scrolled": true,
    "tags": []
   },
   "outputs": [
    {
     "data": {
      "text/html": [
       "<div>\n",
       "<style scoped>\n",
       "    .dataframe tbody tr th:only-of-type {\n",
       "        vertical-align: middle;\n",
       "    }\n",
       "\n",
       "    .dataframe tbody tr th {\n",
       "        vertical-align: top;\n",
       "    }\n",
       "\n",
       "    .dataframe thead th {\n",
       "        text-align: right;\n",
       "    }\n",
       "</style>\n",
       "<table border=\"1\" class=\"dataframe\">\n",
       "  <thead>\n",
       "    <tr style=\"text-align: right;\">\n",
       "      <th></th>\n",
       "      <th>Year of Birth</th>\n",
       "      <th>Gender</th>\n",
       "      <th>Ethnicity</th>\n",
       "      <th>Child's First Name</th>\n",
       "      <th>Count</th>\n",
       "      <th>Rank</th>\n",
       "    </tr>\n",
       "  </thead>\n",
       "  <tbody>\n",
       "    <tr>\n",
       "      <th>count</th>\n",
       "      <td>11345.000000</td>\n",
       "      <td>11345</td>\n",
       "      <td>11345</td>\n",
       "      <td>11345</td>\n",
       "      <td>11345.000000</td>\n",
       "      <td>11345.000000</td>\n",
       "    </tr>\n",
       "    <tr>\n",
       "      <th>unique</th>\n",
       "      <td>NaN</td>\n",
       "      <td>3</td>\n",
       "      <td>7</td>\n",
       "      <td>3016</td>\n",
       "      <td>NaN</td>\n",
       "      <td>NaN</td>\n",
       "    </tr>\n",
       "    <tr>\n",
       "      <th>top</th>\n",
       "      <td>NaN</td>\n",
       "      <td>FEMALE</td>\n",
       "      <td>WHITE NON HISPANIC</td>\n",
       "      <td>Avery</td>\n",
       "      <td>NaN</td>\n",
       "      <td>NaN</td>\n",
       "    </tr>\n",
       "    <tr>\n",
       "      <th>freq</th>\n",
       "      <td>NaN</td>\n",
       "      <td>5756</td>\n",
       "      <td>3365</td>\n",
       "      <td>24</td>\n",
       "      <td>NaN</td>\n",
       "      <td>NaN</td>\n",
       "    </tr>\n",
       "    <tr>\n",
       "      <th>mean</th>\n",
       "      <td>2013.552578</td>\n",
       "      <td>NaN</td>\n",
       "      <td>NaN</td>\n",
       "      <td>NaN</td>\n",
       "      <td>32.836844</td>\n",
       "      <td>57.656765</td>\n",
       "    </tr>\n",
       "    <tr>\n",
       "      <th>std</th>\n",
       "      <td>1.746367</td>\n",
       "      <td>NaN</td>\n",
       "      <td>NaN</td>\n",
       "      <td>NaN</td>\n",
       "      <td>36.981866</td>\n",
       "      <td>25.186882</td>\n",
       "    </tr>\n",
       "    <tr>\n",
       "      <th>min</th>\n",
       "      <td>2011.000000</td>\n",
       "      <td>NaN</td>\n",
       "      <td>NaN</td>\n",
       "      <td>NaN</td>\n",
       "      <td>10.000000</td>\n",
       "      <td>1.000000</td>\n",
       "    </tr>\n",
       "    <tr>\n",
       "      <th>25%</th>\n",
       "      <td>2012.000000</td>\n",
       "      <td>NaN</td>\n",
       "      <td>NaN</td>\n",
       "      <td>NaN</td>\n",
       "      <td>13.000000</td>\n",
       "      <td>38.000000</td>\n",
       "    </tr>\n",
       "    <tr>\n",
       "      <th>50%</th>\n",
       "      <td>2014.000000</td>\n",
       "      <td>NaN</td>\n",
       "      <td>NaN</td>\n",
       "      <td>NaN</td>\n",
       "      <td>20.000000</td>\n",
       "      <td>59.000000</td>\n",
       "    </tr>\n",
       "    <tr>\n",
       "      <th>75%</th>\n",
       "      <td>2015.000000</td>\n",
       "      <td>NaN</td>\n",
       "      <td>NaN</td>\n",
       "      <td>NaN</td>\n",
       "      <td>35.000000</td>\n",
       "      <td>79.000000</td>\n",
       "    </tr>\n",
       "    <tr>\n",
       "      <th>max</th>\n",
       "      <td>2016.000000</td>\n",
       "      <td>NaN</td>\n",
       "      <td>NaN</td>\n",
       "      <td>NaN</td>\n",
       "      <td>387.000000</td>\n",
       "      <td>102.000000</td>\n",
       "    </tr>\n",
       "  </tbody>\n",
       "</table>\n",
       "</div>"
      ],
      "text/plain": [
       "        Year of Birth  Gender           Ethnicity Child's First Name  \\\n",
       "count    11345.000000   11345               11345              11345   \n",
       "unique            NaN       3                   7               3016   \n",
       "top               NaN  FEMALE  WHITE NON HISPANIC              Avery   \n",
       "freq              NaN    5756                3365                 24   \n",
       "mean      2013.552578     NaN                 NaN                NaN   \n",
       "std          1.746367     NaN                 NaN                NaN   \n",
       "min       2011.000000     NaN                 NaN                NaN   \n",
       "25%       2012.000000     NaN                 NaN                NaN   \n",
       "50%       2014.000000     NaN                 NaN                NaN   \n",
       "75%       2015.000000     NaN                 NaN                NaN   \n",
       "max       2016.000000     NaN                 NaN                NaN   \n",
       "\n",
       "               Count          Rank  \n",
       "count   11345.000000  11345.000000  \n",
       "unique           NaN           NaN  \n",
       "top              NaN           NaN  \n",
       "freq             NaN           NaN  \n",
       "mean       32.836844     57.656765  \n",
       "std        36.981866     25.186882  \n",
       "min        10.000000      1.000000  \n",
       "25%        13.000000     38.000000  \n",
       "50%        20.000000     59.000000  \n",
       "75%        35.000000     79.000000  \n",
       "max       387.000000    102.000000  "
      ]
     },
     "execution_count": 4,
     "metadata": {},
     "output_type": "execute_result"
    }
   ],
   "source": [
    "df.describe(include='all')  # include all columns"
   ]
  },
  {
   "cell_type": "markdown",
   "id": "64c569a4",
   "metadata": {
    "papermill": {
     "duration": 0.018636,
     "end_time": "2023-02-12T16:35:14.802371",
     "exception": false,
     "start_time": "2023-02-12T16:35:14.783735",
     "status": "completed"
    },
    "tags": []
   },
   "source": [
    "You can also exclude some of the columns using the exclude method:"
   ]
  },
  {
   "cell_type": "code",
   "execution_count": 5,
   "id": "9fb0fc87",
   "metadata": {
    "execution": {
     "iopub.execute_input": "2023-02-12T16:35:14.846513Z",
     "iopub.status.busy": "2023-02-12T16:35:14.845891Z",
     "iopub.status.idle": "2023-02-12T16:35:14.872670Z",
     "shell.execute_reply": "2023-02-12T16:35:14.871215Z"
    },
    "papermill": {
     "duration": 0.051324,
     "end_time": "2023-02-12T16:35:14.875842",
     "exception": false,
     "start_time": "2023-02-12T16:35:14.824518",
     "status": "completed"
    },
    "tags": []
   },
   "outputs": [
    {
     "data": {
      "text/html": [
       "<div>\n",
       "<style scoped>\n",
       "    .dataframe tbody tr th:only-of-type {\n",
       "        vertical-align: middle;\n",
       "    }\n",
       "\n",
       "    .dataframe tbody tr th {\n",
       "        vertical-align: top;\n",
       "    }\n",
       "\n",
       "    .dataframe thead th {\n",
       "        text-align: right;\n",
       "    }\n",
       "</style>\n",
       "<table border=\"1\" class=\"dataframe\">\n",
       "  <thead>\n",
       "    <tr style=\"text-align: right;\">\n",
       "      <th></th>\n",
       "      <th>Gender</th>\n",
       "      <th>Ethnicity</th>\n",
       "      <th>Child's First Name</th>\n",
       "    </tr>\n",
       "  </thead>\n",
       "  <tbody>\n",
       "    <tr>\n",
       "      <th>count</th>\n",
       "      <td>11345</td>\n",
       "      <td>11345</td>\n",
       "      <td>11345</td>\n",
       "    </tr>\n",
       "    <tr>\n",
       "      <th>unique</th>\n",
       "      <td>3</td>\n",
       "      <td>7</td>\n",
       "      <td>3016</td>\n",
       "    </tr>\n",
       "    <tr>\n",
       "      <th>top</th>\n",
       "      <td>FEMALE</td>\n",
       "      <td>WHITE NON HISPANIC</td>\n",
       "      <td>Avery</td>\n",
       "    </tr>\n",
       "    <tr>\n",
       "      <th>freq</th>\n",
       "      <td>5756</td>\n",
       "      <td>3365</td>\n",
       "      <td>24</td>\n",
       "    </tr>\n",
       "  </tbody>\n",
       "</table>\n",
       "</div>"
      ],
      "text/plain": [
       "        Gender           Ethnicity Child's First Name\n",
       "count    11345               11345              11345\n",
       "unique       3                   7               3016\n",
       "top     FEMALE  WHITE NON HISPANIC              Avery\n",
       "freq      5756                3365                 24"
      ]
     },
     "execution_count": 5,
     "metadata": {},
     "output_type": "execute_result"
    }
   ],
   "source": [
    "df.describe(exclude='number') # exclude numerical columns"
   ]
  },
  {
   "cell_type": "markdown",
   "id": "814ad270",
   "metadata": {
    "papermill": {
     "duration": 0.018547,
     "end_time": "2023-02-12T16:35:14.913722",
     "exception": false,
     "start_time": "2023-02-12T16:35:14.895175",
     "status": "completed"
    },
    "tags": []
   },
   "source": [
    "## 3. df.info()\n",
    "\n",
    "**df.info()** is a method in pandas that is used to get a concise summary of the DataFrame, including the number of non-null values in each column, the data types of each column, and the memory usage of the DataFrame.\n",
    "\n"
   ]
  },
  {
   "cell_type": "code",
   "execution_count": 6,
   "id": "ee8d98b3",
   "metadata": {
    "execution": {
     "iopub.execute_input": "2023-02-12T16:35:14.955016Z",
     "iopub.status.busy": "2023-02-12T16:35:14.954207Z",
     "iopub.status.idle": "2023-02-12T16:35:14.974217Z",
     "shell.execute_reply": "2023-02-12T16:35:14.972810Z"
    },
    "papermill": {
     "duration": 0.044312,
     "end_time": "2023-02-12T16:35:14.977641",
     "exception": false,
     "start_time": "2023-02-12T16:35:14.933329",
     "status": "completed"
    },
    "tags": []
   },
   "outputs": [
    {
     "name": "stdout",
     "output_type": "stream",
     "text": [
      "<class 'pandas.core.frame.DataFrame'>\n",
      "RangeIndex: 11345 entries, 0 to 11344\n",
      "Data columns (total 6 columns):\n",
      " #   Column              Non-Null Count  Dtype \n",
      "---  ------              --------------  ----- \n",
      " 0   Year of Birth       11345 non-null  int64 \n",
      " 1   Gender              11345 non-null  object\n",
      " 2   Ethnicity           11345 non-null  object\n",
      " 3   Child's First Name  11345 non-null  object\n",
      " 4   Count               11345 non-null  int64 \n",
      " 5   Rank                11345 non-null  int64 \n",
      "dtypes: int64(3), object(3)\n",
      "memory usage: 531.9+ KB\n",
      "None\n"
     ]
    }
   ],
   "source": [
    "print(df.info())"
   ]
  },
  {
   "cell_type": "markdown",
   "id": "d7a02f37",
   "metadata": {
    "papermill": {
     "duration": 0.018382,
     "end_time": "2023-02-12T16:35:15.015302",
     "exception": false,
     "start_time": "2023-02-12T16:35:14.996920",
     "status": "completed"
    },
    "tags": []
   },
   "source": [
    "## 4. df.plot()\n",
    "\n",
    "**df.plot()** is a method in pandas that is used to create various types of plots from a DataFrame. By default, it creates a line plot of all numerical columns in the DataFrame. But you can also pass the argument kind to specify the type of plot you want to create. Available options are line, bar, barh, hist, box, kde, density, area, pie, scatter, and hexbin.\n",
    "\n",
    "In the examples below I will use the .plot() method to plot numerical and categorical variables. For the categorical variable, I will plot bar and pie plots and for the numerical variable, I will plot box plots. You can try a different types of plots by yourself.\n"
   ]
  },
  {
   "cell_type": "code",
   "execution_count": 7,
   "id": "ba1e6f1a",
   "metadata": {
    "execution": {
     "iopub.execute_input": "2023-02-12T16:35:15.055304Z",
     "iopub.status.busy": "2023-02-12T16:35:15.054726Z",
     "iopub.status.idle": "2023-02-12T16:35:15.305566Z",
     "shell.execute_reply": "2023-02-12T16:35:15.303053Z"
    },
    "papermill": {
     "duration": 0.27446,
     "end_time": "2023-02-12T16:35:15.308553",
     "exception": false,
     "start_time": "2023-02-12T16:35:15.034093",
     "status": "completed"
    },
    "tags": []
   },
   "outputs": [
    {
     "data": {
      "text/plain": [
       "<AxesSubplot:>"
      ]
     },
     "execution_count": 7,
     "metadata": {},
     "output_type": "execute_result"
    },
    {
     "data": {
      "image/png": "[encoded data removed]",
      "text/plain": [
       "<Figure size 432x288 with 1 Axes>"
      ]
     },
     "metadata": {
      "needs_background": "light"
     },
     "output_type": "display_data"
    }
   ],
   "source": [
    "df['Gender'].value_counts().plot(kind='bar')"
   ]
  },
  {
   "cell_type": "code",
   "execution_count": 8,
   "id": "8f5f0c88",
   "metadata": {
    "execution": {
     "iopub.execute_input": "2023-02-12T16:35:15.350270Z",
     "iopub.status.busy": "2023-02-12T16:35:15.348914Z",
     "iopub.status.idle": "2023-02-12T16:35:15.472516Z",
     "shell.execute_reply": "2023-02-12T16:35:15.470616Z"
    },
    "papermill": {
     "duration": 0.149551,
     "end_time": "2023-02-12T16:35:15.477598",
     "exception": false,
     "start_time": "2023-02-12T16:35:15.328047",
     "status": "completed"
    },
    "tags": []
   },
   "outputs": [
    {
     "data": {
      "text/plain": [
       "<AxesSubplot:ylabel='Gender'>"
      ]
     },
     "execution_count": 8,
     "metadata": {},
     "output_type": "execute_result"
    },
    {
     "data": {
      "image/png": "[encoded data removed]",
      "text/plain": [
       "<Figure size 432x288 with 1 Axes>"
      ]
     },
     "metadata": {},
     "output_type": "display_data"
    }
   ],
   "source": [
    "df['Gender'].value_counts().plot(kind='pie')"
   ]
  },
  {
   "cell_type": "code",
   "execution_count": 9,
   "id": "6e568104",
   "metadata": {
    "execution": {
     "iopub.execute_input": "2023-02-12T16:35:15.567285Z",
     "iopub.status.busy": "2023-02-12T16:35:15.566389Z",
     "iopub.status.idle": "2023-02-12T16:35:15.762075Z",
     "shell.execute_reply": "2023-02-12T16:35:15.760842Z"
    },
    "papermill": {
     "duration": 0.236452,
     "end_time": "2023-02-12T16:35:15.764828",
     "exception": false,
     "start_time": "2023-02-12T16:35:15.528376",
     "status": "completed"
    },
    "tags": []
   },
   "outputs": [
    {
     "data": {
      "text/plain": [
       "<AxesSubplot:>"
      ]
     },
     "execution_count": 9,
     "metadata": {},
     "output_type": "execute_result"
    },
    {
     "data": {
      "image/png": "[encoded data removed]",
      "text/plain": [
       "<Figure size 432x288 with 1 Axes>"
      ]
     },
     "metadata": {
      "needs_background": "light"
     },
     "output_type": "display_data"
    }
   ],
   "source": [
    "df['Count'].plot(kind='box')"
   ]
  },
  {
   "cell_type": "markdown",
   "id": "14e5e8a4",
   "metadata": {
    "papermill": {
     "duration": 0.019527,
     "end_time": "2023-02-12T16:35:15.804498",
     "exception": false,
     "start_time": "2023-02-12T16:35:15.784971",
     "status": "completed"
    },
    "tags": []
   },
   "source": [
    "It also supports many other options like title, xlabel, ylabel, legend, grid, xlim, ylim, xticks, yticks etc. to customize the plot. You can also use plt.xlabel(), plt.ylabel(), plt.title() etc. after the plot to customize it.\n",
    "\n",
    "Please keep in mind that df.plot() is just a convenient wrapper around the matplotlib.pyplot library, so the same customization options available in matplotlib are available for df.plot().\n",
    "\n"
   ]
  },
  {
   "cell_type": "markdown",
   "id": "92e25d65",
   "metadata": {
    "papermill": {
     "duration": 0.023921,
     "end_time": "2023-02-12T16:35:15.853866",
     "exception": false,
     "start_time": "2023-02-12T16:35:15.829945",
     "status": "completed"
    },
    "tags": []
   },
   "source": [
    "## 5. df.iloc()\n",
    "\n",
    "Pandas’ **.iloc()** function is used to select rows and columns by their integer-based index in a DataFrame. It is used to select rows and columns by their integer-based location.\n",
    "\n",
    "Here are some examples of how you can use it:\n"
   ]
  },
  {
   "cell_type": "code",
   "execution_count": 10,
   "id": "a0cb2519",
   "metadata": {
    "execution": {
     "iopub.execute_input": "2023-02-12T16:35:15.919836Z",
     "iopub.status.busy": "2023-02-12T16:35:15.918686Z",
     "iopub.status.idle": "2023-02-12T16:35:15.926935Z",
     "shell.execute_reply": "2023-02-12T16:35:15.926084Z"
    },
    "papermill": {
     "duration": 0.042866,
     "end_time": "2023-02-12T16:35:15.929929",
     "exception": false,
     "start_time": "2023-02-12T16:35:15.887063",
     "status": "completed"
    },
    "tags": []
   },
   "outputs": [
    {
     "name": "stdout",
     "output_type": "stream",
     "text": [
      "Year of Birth                               2011\n",
      "Gender                                    FEMALE\n",
      "Ethnicity             ASIAN AND PACIFIC ISLANDER\n",
      "Child's First Name                        SOPHIA\n",
      "Count                                        119\n",
      "Rank                                           1\n",
      "Name: 0, dtype: object\n"
     ]
    }
   ],
   "source": [
    "# Select the first row\n",
    "print(df.iloc[0])"
   ]
  },
  {
   "cell_type": "code",
   "execution_count": 11,
   "id": "14fdd9ee",
   "metadata": {
    "execution": {
     "iopub.execute_input": "2023-02-12T16:35:15.974158Z",
     "iopub.status.busy": "2023-02-12T16:35:15.973604Z",
     "iopub.status.idle": "2023-02-12T16:35:15.983569Z",
     "shell.execute_reply": "2023-02-12T16:35:15.982617Z"
    },
    "papermill": {
     "duration": 0.035384,
     "end_time": "2023-02-12T16:35:15.986759",
     "exception": false,
     "start_time": "2023-02-12T16:35:15.951375",
     "status": "completed"
    },
    "tags": []
   },
   "outputs": [
    {
     "name": "stdout",
     "output_type": "stream",
     "text": [
      "   Year of Birth  Gender                   Ethnicity Child's First Name  \\\n",
      "0           2011  FEMALE  ASIAN AND PACIFIC ISLANDER             SOPHIA   \n",
      "1           2011  FEMALE  ASIAN AND PACIFIC ISLANDER              CHLOE   \n",
      "\n",
      "   Count  Rank  \n",
      "0    119     1  \n",
      "1    106     2  \n"
     ]
    }
   ],
   "source": [
    "# Select the first two rows\n",
    "print(df.iloc[:2])"
   ]
  },
  {
   "cell_type": "code",
   "execution_count": 12,
   "id": "248656e1",
   "metadata": {
    "execution": {
     "iopub.execute_input": "2023-02-12T16:35:16.030235Z",
     "iopub.status.busy": "2023-02-12T16:35:16.029343Z",
     "iopub.status.idle": "2023-02-12T16:35:16.037442Z",
     "shell.execute_reply": "2023-02-12T16:35:16.035800Z"
    },
    "papermill": {
     "duration": 0.032763,
     "end_time": "2023-02-12T16:35:16.040371",
     "exception": false,
     "start_time": "2023-02-12T16:35:16.007608",
     "status": "completed"
    },
    "scrolled": true,
    "tags": []
   },
   "outputs": [
    {
     "name": "stdout",
     "output_type": "stream",
     "text": [
      "0        2011\n",
      "1        2011\n",
      "2        2011\n",
      "3        2011\n",
      "4        2011\n",
      "         ... \n",
      "11340    2016\n",
      "11341    2016\n",
      "11342    2016\n",
      "11343    2016\n",
      "11344    2016\n",
      "Name: Year of Birth, Length: 11345, dtype: int64\n"
     ]
    }
   ],
   "source": [
    "# Select the first column\n",
    "print(df.iloc[:, 0])"
   ]
  },
  {
   "cell_type": "code",
   "execution_count": 13,
   "id": "29f07221",
   "metadata": {
    "execution": {
     "iopub.execute_input": "2023-02-12T16:35:16.084604Z",
     "iopub.status.busy": "2023-02-12T16:35:16.082967Z",
     "iopub.status.idle": "2023-02-12T16:35:16.094950Z",
     "shell.execute_reply": "2023-02-12T16:35:16.093597Z"
    },
    "papermill": {
     "duration": 0.037054,
     "end_time": "2023-02-12T16:35:16.097663",
     "exception": false,
     "start_time": "2023-02-12T16:35:16.060609",
     "status": "completed"
    },
    "tags": []
   },
   "outputs": [
    {
     "name": "stdout",
     "output_type": "stream",
     "text": [
      "       Year of Birth  Gender\n",
      "0               2011  FEMALE\n",
      "1               2011  FEMALE\n",
      "2               2011  FEMALE\n",
      "3               2011  FEMALE\n",
      "4               2011  FEMALE\n",
      "...              ...     ...\n",
      "11340           2016  FEMALE\n",
      "11341           2016  FEMALE\n",
      "11342           2016  FEMALE\n",
      "11343           2016  FEMALE\n",
      "11344           2016  FEMALE\n",
      "\n",
      "[11345 rows x 2 columns]\n"
     ]
    }
   ],
   "source": [
    "# Select the first two columns\n",
    "print(df.iloc[:, :2])"
   ]
  },
  {
   "cell_type": "code",
   "execution_count": 14,
   "id": "db6ac599",
   "metadata": {
    "execution": {
     "iopub.execute_input": "2023-02-12T16:35:16.141688Z",
     "iopub.status.busy": "2023-02-12T16:35:16.140342Z",
     "iopub.status.idle": "2023-02-12T16:35:16.148090Z",
     "shell.execute_reply": "2023-02-12T16:35:16.146370Z"
    },
    "papermill": {
     "duration": 0.032105,
     "end_time": "2023-02-12T16:35:16.150606",
     "exception": false,
     "start_time": "2023-02-12T16:35:16.118501",
     "status": "completed"
    },
    "tags": []
   },
   "outputs": [
    {
     "name": "stdout",
     "output_type": "stream",
     "text": [
      "FEMALE\n"
     ]
    }
   ],
   "source": [
    "# Select the (1, 1) element\n",
    "print(df.iloc[1, 1])"
   ]
  },
  {
   "cell_type": "markdown",
   "id": "6f4ff1b3",
   "metadata": {
    "papermill": {
     "duration": 0.02077,
     "end_time": "2023-02-12T16:35:16.191618",
     "exception": false,
     "start_time": "2023-02-12T16:35:16.170848",
     "status": "completed"
    },
    "tags": []
   },
   "source": [
    "In the above examples, df.iloc[0] selects the first row of the dataframe, df.iloc[:2] selects the first two rows, df.iloc[:, 0] selects the first column, df.iloc[:, :2] selects the first two columns, and df.iloc[1, 1] selects the element at the (1, 1) position of the dataframe (second row, second column).\n",
    "\n",
    "Keep in mind that .iloc() only selects rows and columns based on their integer-based index, so if you want to select rows and columns based on their labels you should use .loc() method instead as will be shown next.\n",
    "\n"
   ]
  },
  {
   "cell_type": "markdown",
   "id": "c4dd5186",
   "metadata": {
    "papermill": {
     "duration": 0.020004,
     "end_time": "2023-02-12T16:35:16.232237",
     "exception": false,
     "start_time": "2023-02-12T16:35:16.212233",
     "status": "completed"
    },
    "tags": []
   },
   "source": [
    "## 6. df.loc()\n",
    "\n",
    "Pandas’ **.loc()** function is used to select rows and columns by their label-based index in a DataFrame. It is used to select rows and columns by their label-based location.\n",
    "\n",
    "Here are some examples of how you can use it:"
   ]
  },
  {
   "cell_type": "code",
   "execution_count": 15,
   "id": "a9ece525",
   "metadata": {
    "execution": {
     "iopub.execute_input": "2023-02-12T16:35:16.276077Z",
     "iopub.status.busy": "2023-02-12T16:35:16.274847Z",
     "iopub.status.idle": "2023-02-12T16:35:16.283525Z",
     "shell.execute_reply": "2023-02-12T16:35:16.282289Z"
    },
    "papermill": {
     "duration": 0.03498,
     "end_time": "2023-02-12T16:35:16.287770",
     "exception": false,
     "start_time": "2023-02-12T16:35:16.252790",
     "status": "completed"
    },
    "tags": []
   },
   "outputs": [
    {
     "name": "stdout",
     "output_type": "stream",
     "text": [
      "0        FEMALE\n",
      "1        FEMALE\n",
      "2        FEMALE\n",
      "3        FEMALE\n",
      "4        FEMALE\n",
      "          ...  \n",
      "11340    FEMALE\n",
      "11341    FEMALE\n",
      "11342    FEMALE\n",
      "11343    FEMALE\n",
      "11344    FEMALE\n",
      "Name: Gender, Length: 11345, dtype: object\n"
     ]
    }
   ],
   "source": [
    "# Select the column name 'Gender'\n",
    "print(df.loc[:,'Gender'])"
   ]
  },
  {
   "cell_type": "code",
   "execution_count": 16,
   "id": "c10f9b82",
   "metadata": {
    "execution": {
     "iopub.execute_input": "2023-02-12T16:35:16.334701Z",
     "iopub.status.busy": "2023-02-12T16:35:16.333465Z",
     "iopub.status.idle": "2023-02-12T16:35:16.343926Z",
     "shell.execute_reply": "2023-02-12T16:35:16.342970Z"
    },
    "papermill": {
     "duration": 0.036419,
     "end_time": "2023-02-12T16:35:16.347213",
     "exception": false,
     "start_time": "2023-02-12T16:35:16.310794",
     "status": "completed"
    },
    "tags": []
   },
   "outputs": [
    {
     "name": "stdout",
     "output_type": "stream",
     "text": [
      "       Year of Birth  Gender\n",
      "0               2011  FEMALE\n",
      "1               2011  FEMALE\n",
      "2               2011  FEMALE\n",
      "3               2011  FEMALE\n",
      "4               2011  FEMALE\n",
      "...              ...     ...\n",
      "11340           2016  FEMALE\n",
      "11341           2016  FEMALE\n",
      "11342           2016  FEMALE\n",
      "11343           2016  FEMALE\n",
      "11344           2016  FEMALE\n",
      "\n",
      "[11345 rows x 2 columns]\n"
     ]
    }
   ],
   "source": [
    "# Select the columns named 'Year of Birth' and 'Gender'\n",
    "print(df.loc[:, ['Year of Birth', 'Gender']])"
   ]
  },
  {
   "cell_type": "markdown",
   "id": "dd0decfc",
   "metadata": {
    "papermill": {
     "duration": 0.020099,
     "end_time": "2023-02-12T16:35:16.388556",
     "exception": false,
     "start_time": "2023-02-12T16:35:16.368457",
     "status": "completed"
    },
    "tags": []
   },
   "source": [
    "In the above example, we used df.loc[:, 'Gender'] to select the column named 'Gender', and df.loc[:, ['Year of Birth', 'Gender']] selects the columns named 'Year of Birth' and 'Gender'."
   ]
  },
  {
   "cell_type": "markdown",
   "id": "263e2415",
   "metadata": {
    "papermill": {
     "duration": 0.020009,
     "end_time": "2023-02-12T16:35:16.428880",
     "exception": false,
     "start_time": "2023-02-12T16:35:16.408871",
     "status": "completed"
    },
    "tags": []
   },
   "source": [
    "## 7. df.assign()\n",
    "\n",
    "Pandas’ .assign() function is used to add new columns to a DataFrame, based on the computation of existing columns. It allows you to add new columns to a DataFrame without modifying the original dataframe. The function returns a new DataFrame with the added columns.\n",
    "\n",
    "Here is an example of how you can use it:\n",
    "\n"
   ]
  },
  {
   "cell_type": "code",
   "execution_count": 17,
   "id": "df2f43f8",
   "metadata": {
    "execution": {
     "iopub.execute_input": "2023-02-12T16:35:16.472555Z",
     "iopub.status.busy": "2023-02-12T16:35:16.471729Z",
     "iopub.status.idle": "2023-02-12T16:35:16.488477Z",
     "shell.execute_reply": "2023-02-12T16:35:16.487115Z"
    },
    "papermill": {
     "duration": 0.041929,
     "end_time": "2023-02-12T16:35:16.491394",
     "exception": false,
     "start_time": "2023-02-12T16:35:16.449465",
     "status": "completed"
    },
    "tags": []
   },
   "outputs": [
    {
     "data": {
      "text/html": [
       "<div>\n",
       "<style scoped>\n",
       "    .dataframe tbody tr th:only-of-type {\n",
       "        vertical-align: middle;\n",
       "    }\n",
       "\n",
       "    .dataframe tbody tr th {\n",
       "        vertical-align: top;\n",
       "    }\n",
       "\n",
       "    .dataframe thead th {\n",
       "        text-align: right;\n",
       "    }\n",
       "</style>\n",
       "<table border=\"1\" class=\"dataframe\">\n",
       "  <thead>\n",
       "    <tr style=\"text-align: right;\">\n",
       "      <th></th>\n",
       "      <th>Year of Birth</th>\n",
       "      <th>Gender</th>\n",
       "      <th>Ethnicity</th>\n",
       "      <th>Child's First Name</th>\n",
       "      <th>Count</th>\n",
       "      <th>Rank</th>\n",
       "      <th>count_plus_5</th>\n",
       "    </tr>\n",
       "  </thead>\n",
       "  <tbody>\n",
       "    <tr>\n",
       "      <th>0</th>\n",
       "      <td>2011</td>\n",
       "      <td>FEMALE</td>\n",
       "      <td>ASIAN AND PACIFIC ISLANDER</td>\n",
       "      <td>SOPHIA</td>\n",
       "      <td>119</td>\n",
       "      <td>1</td>\n",
       "      <td>124</td>\n",
       "    </tr>\n",
       "    <tr>\n",
       "      <th>1</th>\n",
       "      <td>2011</td>\n",
       "      <td>FEMALE</td>\n",
       "      <td>ASIAN AND PACIFIC ISLANDER</td>\n",
       "      <td>CHLOE</td>\n",
       "      <td>106</td>\n",
       "      <td>2</td>\n",
       "      <td>111</td>\n",
       "    </tr>\n",
       "    <tr>\n",
       "      <th>2</th>\n",
       "      <td>2011</td>\n",
       "      <td>FEMALE</td>\n",
       "      <td>ASIAN AND PACIFIC ISLANDER</td>\n",
       "      <td>EMILY</td>\n",
       "      <td>93</td>\n",
       "      <td>3</td>\n",
       "      <td>98</td>\n",
       "    </tr>\n",
       "    <tr>\n",
       "      <th>3</th>\n",
       "      <td>2011</td>\n",
       "      <td>FEMALE</td>\n",
       "      <td>ASIAN AND PACIFIC ISLANDER</td>\n",
       "      <td>OLIVIA</td>\n",
       "      <td>89</td>\n",
       "      <td>4</td>\n",
       "      <td>94</td>\n",
       "    </tr>\n",
       "    <tr>\n",
       "      <th>4</th>\n",
       "      <td>2011</td>\n",
       "      <td>FEMALE</td>\n",
       "      <td>ASIAN AND PACIFIC ISLANDER</td>\n",
       "      <td>EMMA</td>\n",
       "      <td>75</td>\n",
       "      <td>5</td>\n",
       "      <td>80</td>\n",
       "    </tr>\n",
       "  </tbody>\n",
       "</table>\n",
       "</div>"
      ],
      "text/plain": [
       "   Year of Birth  Gender                   Ethnicity Child's First Name  \\\n",
       "0           2011  FEMALE  ASIAN AND PACIFIC ISLANDER             SOPHIA   \n",
       "1           2011  FEMALE  ASIAN AND PACIFIC ISLANDER              CHLOE   \n",
       "2           2011  FEMALE  ASIAN AND PACIFIC ISLANDER              EMILY   \n",
       "3           2011  FEMALE  ASIAN AND PACIFIC ISLANDER             OLIVIA   \n",
       "4           2011  FEMALE  ASIAN AND PACIFIC ISLANDER               EMMA   \n",
       "\n",
       "   Count  Rank  count_plus_5  \n",
       "0    119     1           124  \n",
       "1    106     2           111  \n",
       "2     93     3            98  \n",
       "3     89     4            94  \n",
       "4     75     5            80  "
      ]
     },
     "execution_count": 17,
     "metadata": {},
     "output_type": "execute_result"
    }
   ],
   "source": [
    "df_new = df.assign(count_plus_5=df['Count'] + 5)\n",
    "df_new.head()"
   ]
  },
  {
   "cell_type": "markdown",
   "id": "6bf06b7d",
   "metadata": {
    "papermill": {
     "duration": 0.020238,
     "end_time": "2023-02-12T16:35:16.532159",
     "exception": false,
     "start_time": "2023-02-12T16:35:16.511921",
     "status": "completed"
    },
    "tags": []
   },
   "source": [
    "In the above example, the first time df.assign() is used to create a new column named 'count_plus_5' with the value of count + 5.\n",
    "\n",
    "It’s important to note that the original DataFrame df remains unchanged and the new DataFrame df_new is returned with the new columns added.\n",
    "\n",
    "The .assign() method can be used multiple times in a chain, allowing you to add multiple new columns to a DataFrame in one line of code.\n",
    "\n"
   ]
  },
  {
   "cell_type": "markdown",
   "id": "f05b65c3",
   "metadata": {
    "papermill": {
     "duration": 0.020369,
     "end_time": "2023-02-12T16:35:16.573243",
     "exception": false,
     "start_time": "2023-02-12T16:35:16.552874",
     "status": "completed"
    },
    "tags": []
   },
   "source": [
    "## 8. df.query()\n",
    "Pandas’ .query() function allows you to filter a DataFrame based on a Boolean expression. It allows you to select rows from a DataFrame using a query string similar to SQL. The function returns a new DataFrame containing only the rows that satisfy the Boolean expression.\n",
    "\n",
    "Here is an example of how you can use it:\n",
    "\n"
   ]
  },
  {
   "cell_type": "code",
   "execution_count": 18,
   "id": "58e76ddb",
   "metadata": {
    "execution": {
     "iopub.execute_input": "2023-02-12T16:35:16.616729Z",
     "iopub.status.busy": "2023-02-12T16:35:16.616178Z",
     "iopub.status.idle": "2023-02-12T16:35:16.637290Z",
     "shell.execute_reply": "2023-02-12T16:35:16.636369Z"
    },
    "papermill": {
     "duration": 0.046018,
     "end_time": "2023-02-12T16:35:16.640003",
     "exception": false,
     "start_time": "2023-02-12T16:35:16.593985",
     "status": "completed"
    },
    "tags": []
   },
   "outputs": [
    {
     "data": {
      "text/html": [
       "<div>\n",
       "<style scoped>\n",
       "    .dataframe tbody tr th:only-of-type {\n",
       "        vertical-align: middle;\n",
       "    }\n",
       "\n",
       "    .dataframe tbody tr th {\n",
       "        vertical-align: top;\n",
       "    }\n",
       "\n",
       "    .dataframe thead th {\n",
       "        text-align: right;\n",
       "    }\n",
       "</style>\n",
       "<table border=\"1\" class=\"dataframe\">\n",
       "  <thead>\n",
       "    <tr style=\"text-align: right;\">\n",
       "      <th></th>\n",
       "      <th>Year of Birth</th>\n",
       "      <th>Gender</th>\n",
       "      <th>Ethnicity</th>\n",
       "      <th>Child's First Name</th>\n",
       "      <th>Count</th>\n",
       "      <th>Rank</th>\n",
       "    </tr>\n",
       "  </thead>\n",
       "  <tbody>\n",
       "    <tr>\n",
       "      <th>0</th>\n",
       "      <td>2011</td>\n",
       "      <td>FEMALE</td>\n",
       "      <td>ASIAN AND PACIFIC ISLANDER</td>\n",
       "      <td>SOPHIA</td>\n",
       "      <td>119</td>\n",
       "      <td>1</td>\n",
       "    </tr>\n",
       "    <tr>\n",
       "      <th>1</th>\n",
       "      <td>2011</td>\n",
       "      <td>FEMALE</td>\n",
       "      <td>ASIAN AND PACIFIC ISLANDER</td>\n",
       "      <td>CHLOE</td>\n",
       "      <td>106</td>\n",
       "      <td>2</td>\n",
       "    </tr>\n",
       "    <tr>\n",
       "      <th>2</th>\n",
       "      <td>2011</td>\n",
       "      <td>FEMALE</td>\n",
       "      <td>ASIAN AND PACIFIC ISLANDER</td>\n",
       "      <td>EMILY</td>\n",
       "      <td>93</td>\n",
       "      <td>3</td>\n",
       "    </tr>\n",
       "    <tr>\n",
       "      <th>3</th>\n",
       "      <td>2011</td>\n",
       "      <td>FEMALE</td>\n",
       "      <td>ASIAN AND PACIFIC ISLANDER</td>\n",
       "      <td>OLIVIA</td>\n",
       "      <td>89</td>\n",
       "      <td>4</td>\n",
       "    </tr>\n",
       "    <tr>\n",
       "      <th>4</th>\n",
       "      <td>2011</td>\n",
       "      <td>FEMALE</td>\n",
       "      <td>ASIAN AND PACIFIC ISLANDER</td>\n",
       "      <td>EMMA</td>\n",
       "      <td>75</td>\n",
       "      <td>5</td>\n",
       "    </tr>\n",
       "  </tbody>\n",
       "</table>\n",
       "</div>"
      ],
      "text/plain": [
       "   Year of Birth  Gender                   Ethnicity Child's First Name  \\\n",
       "0           2011  FEMALE  ASIAN AND PACIFIC ISLANDER             SOPHIA   \n",
       "1           2011  FEMALE  ASIAN AND PACIFIC ISLANDER              CHLOE   \n",
       "2           2011  FEMALE  ASIAN AND PACIFIC ISLANDER              EMILY   \n",
       "3           2011  FEMALE  ASIAN AND PACIFIC ISLANDER             OLIVIA   \n",
       "4           2011  FEMALE  ASIAN AND PACIFIC ISLANDER               EMMA   \n",
       "\n",
       "   Count  Rank  \n",
       "0    119     1  \n",
       "1    106     2  \n",
       "2     93     3  \n",
       "3     89     4  \n",
       "4     75     5  "
      ]
     },
     "execution_count": 18,
     "metadata": {},
     "output_type": "execute_result"
    }
   ],
   "source": [
    "# Select rows where age is greater than 30 and income is less than 65000\n",
    "df_query = df.query('Count > 30 and Rank < 20')\n",
    "df_query.head()"
   ]
  },
  {
   "cell_type": "code",
   "execution_count": 19,
   "id": "2c6e17f2",
   "metadata": {
    "execution": {
     "iopub.execute_input": "2023-02-12T16:35:16.684620Z",
     "iopub.status.busy": "2023-02-12T16:35:16.684078Z",
     "iopub.status.idle": "2023-02-12T16:35:16.702795Z",
     "shell.execute_reply": "2023-02-12T16:35:16.701513Z"
    },
    "papermill": {
     "duration": 0.044507,
     "end_time": "2023-02-12T16:35:16.705321",
     "exception": false,
     "start_time": "2023-02-12T16:35:16.660814",
     "status": "completed"
    },
    "tags": []
   },
   "outputs": [
    {
     "data": {
      "text/html": [
       "<div>\n",
       "<style scoped>\n",
       "    .dataframe tbody tr th:only-of-type {\n",
       "        vertical-align: middle;\n",
       "    }\n",
       "\n",
       "    .dataframe tbody tr th {\n",
       "        vertical-align: top;\n",
       "    }\n",
       "\n",
       "    .dataframe thead th {\n",
       "        text-align: right;\n",
       "    }\n",
       "</style>\n",
       "<table border=\"1\" class=\"dataframe\">\n",
       "  <thead>\n",
       "    <tr style=\"text-align: right;\">\n",
       "      <th></th>\n",
       "      <th>Year of Birth</th>\n",
       "      <th>Gender</th>\n",
       "      <th>Ethnicity</th>\n",
       "      <th>Child's First Name</th>\n",
       "      <th>Count</th>\n",
       "      <th>Rank</th>\n",
       "    </tr>\n",
       "  </thead>\n",
       "  <tbody>\n",
       "    <tr>\n",
       "      <th>993</th>\n",
       "      <td>2011</td>\n",
       "      <td>MALE</td>\n",
       "      <td>ASIAN AND PACIFIC ISLANDER</td>\n",
       "      <td>ETHAN</td>\n",
       "      <td>177</td>\n",
       "      <td>1</td>\n",
       "    </tr>\n",
       "    <tr>\n",
       "      <th>994</th>\n",
       "      <td>2011</td>\n",
       "      <td>MALE</td>\n",
       "      <td>ASIAN AND PACIFIC ISLANDER</td>\n",
       "      <td>JAYDEN</td>\n",
       "      <td>173</td>\n",
       "      <td>2</td>\n",
       "    </tr>\n",
       "    <tr>\n",
       "      <th>995</th>\n",
       "      <td>2011</td>\n",
       "      <td>MALE</td>\n",
       "      <td>ASIAN AND PACIFIC ISLANDER</td>\n",
       "      <td>RYAN</td>\n",
       "      <td>150</td>\n",
       "      <td>3</td>\n",
       "    </tr>\n",
       "    <tr>\n",
       "      <th>996</th>\n",
       "      <td>2011</td>\n",
       "      <td>MALE</td>\n",
       "      <td>ASIAN AND PACIFIC ISLANDER</td>\n",
       "      <td>JUSTIN</td>\n",
       "      <td>110</td>\n",
       "      <td>4</td>\n",
       "    </tr>\n",
       "    <tr>\n",
       "      <th>997</th>\n",
       "      <td>2011</td>\n",
       "      <td>MALE</td>\n",
       "      <td>ASIAN AND PACIFIC ISLANDER</td>\n",
       "      <td>LUCAS</td>\n",
       "      <td>103</td>\n",
       "      <td>5</td>\n",
       "    </tr>\n",
       "  </tbody>\n",
       "</table>\n",
       "</div>"
      ],
      "text/plain": [
       "     Year of Birth Gender                   Ethnicity Child's First Name  \\\n",
       "993           2011   MALE  ASIAN AND PACIFIC ISLANDER              ETHAN   \n",
       "994           2011   MALE  ASIAN AND PACIFIC ISLANDER             JAYDEN   \n",
       "995           2011   MALE  ASIAN AND PACIFIC ISLANDER               RYAN   \n",
       "996           2011   MALE  ASIAN AND PACIFIC ISLANDER             JUSTIN   \n",
       "997           2011   MALE  ASIAN AND PACIFIC ISLANDER              LUCAS   \n",
       "\n",
       "     Count  Rank  \n",
       "993    177     1  \n",
       "994    173     2  \n",
       "995    150     3  \n",
       "996    110     4  \n",
       "997    103     5  "
      ]
     },
     "execution_count": 19,
     "metadata": {},
     "output_type": "execute_result"
    }
   ],
   "source": [
    "# Select rows where gender is Male\n",
    "df_query = df.query(\"Gender == 'MALE'\")\n",
    "df_query.head()"
   ]
  },
  {
   "cell_type": "markdown",
   "id": "871eeea0",
   "metadata": {
    "papermill": {
     "duration": 0.021659,
     "end_time": "2023-02-12T16:35:16.748888",
     "exception": false,
     "start_time": "2023-02-12T16:35:16.727229",
     "status": "completed"
    },
    "tags": []
   },
   "source": [
    "In the above example, the first time df.query() is used to select rows where the count is greater than 30 and the rank is less than 30, and the second time df.query() is used to select rows where gender is 'MALE'.\n",
    "\n",
    "It’s important to note that the original DataFrame df remains unchanged and the new DataFrame df_query is returned with the filtered rows.\n",
    "\n",
    "The .query() method can be used with any valid Boolean expression and it's useful when you want to filter a DataFrame based on multiple conditions or when the conditions are complex and hard to express using the standard indexing operators.\n",
    "\n",
    "Also, keep in mind that the .query() method is slower than boolean indexing, so if performance is critical, you should use boolean indexing instead."
   ]
  },
  {
   "cell_type": "markdown",
   "id": "c65ddefb",
   "metadata": {
    "papermill": {
     "duration": 0.021687,
     "end_time": "2023-02-12T16:35:16.792868",
     "exception": false,
     "start_time": "2023-02-12T16:35:16.771181",
     "status": "completed"
    },
    "tags": []
   },
   "source": [
    "## 9. df.sort_values()\n",
    "Pandas’ .sort_values() function allows you to sort a DataFrame by one or multiple columns. It sorts the DataFrame based on the values of one or more columns, in ascending or descending order. The function returns a new DataFrame sorted by the specified column(s).\n",
    "\n",
    "Here is an example of how you can use it:\n",
    "\n"
   ]
  },
  {
   "cell_type": "code",
   "execution_count": 20,
   "id": "543dab65",
   "metadata": {
    "execution": {
     "iopub.execute_input": "2023-02-12T16:35:16.838213Z",
     "iopub.status.busy": "2023-02-12T16:35:16.837654Z",
     "iopub.status.idle": "2023-02-12T16:35:16.856300Z",
     "shell.execute_reply": "2023-02-12T16:35:16.855013Z"
    },
    "papermill": {
     "duration": 0.044609,
     "end_time": "2023-02-12T16:35:16.859293",
     "exception": false,
     "start_time": "2023-02-12T16:35:16.814684",
     "status": "completed"
    },
    "tags": []
   },
   "outputs": [
    {
     "data": {
      "text/html": [
       "<div>\n",
       "<style scoped>\n",
       "    .dataframe tbody tr th:only-of-type {\n",
       "        vertical-align: middle;\n",
       "    }\n",
       "\n",
       "    .dataframe tbody tr th {\n",
       "        vertical-align: top;\n",
       "    }\n",
       "\n",
       "    .dataframe thead th {\n",
       "        text-align: right;\n",
       "    }\n",
       "</style>\n",
       "<table border=\"1\" class=\"dataframe\">\n",
       "  <thead>\n",
       "    <tr style=\"text-align: right;\">\n",
       "      <th></th>\n",
       "      <th>Year of Birth</th>\n",
       "      <th>Gender</th>\n",
       "      <th>Ethnicity</th>\n",
       "      <th>Child's First Name</th>\n",
       "      <th>Count</th>\n",
       "      <th>Rank</th>\n",
       "    </tr>\n",
       "  </thead>\n",
       "  <tbody>\n",
       "    <tr>\n",
       "      <th>5672</th>\n",
       "      <td>2014</td>\n",
       "      <td>FEMALE</td>\n",
       "      <td>ASIAN AND PACIFIC ISLANDER</td>\n",
       "      <td>Priscilla</td>\n",
       "      <td>10</td>\n",
       "      <td>40</td>\n",
       "    </tr>\n",
       "    <tr>\n",
       "      <th>4344</th>\n",
       "      <td>2013</td>\n",
       "      <td>FEMALE</td>\n",
       "      <td>HISPANIC</td>\n",
       "      <td>Raquel</td>\n",
       "      <td>10</td>\n",
       "      <td>78</td>\n",
       "    </tr>\n",
       "    <tr>\n",
       "      <th>4343</th>\n",
       "      <td>2013</td>\n",
       "      <td>FEMALE</td>\n",
       "      <td>HISPANIC</td>\n",
       "      <td>Rachel</td>\n",
       "      <td>10</td>\n",
       "      <td>78</td>\n",
       "    </tr>\n",
       "    <tr>\n",
       "      <th>4342</th>\n",
       "      <td>2013</td>\n",
       "      <td>FEMALE</td>\n",
       "      <td>HISPANIC</td>\n",
       "      <td>Paula</td>\n",
       "      <td>10</td>\n",
       "      <td>78</td>\n",
       "    </tr>\n",
       "    <tr>\n",
       "      <th>4341</th>\n",
       "      <td>2013</td>\n",
       "      <td>FEMALE</td>\n",
       "      <td>HISPANIC</td>\n",
       "      <td>Nyah</td>\n",
       "      <td>10</td>\n",
       "      <td>78</td>\n",
       "    </tr>\n",
       "  </tbody>\n",
       "</table>\n",
       "</div>"
      ],
      "text/plain": [
       "      Year of Birth  Gender                   Ethnicity Child's First Name  \\\n",
       "5672           2014  FEMALE  ASIAN AND PACIFIC ISLANDER          Priscilla   \n",
       "4344           2013  FEMALE                    HISPANIC             Raquel   \n",
       "4343           2013  FEMALE                    HISPANIC             Rachel   \n",
       "4342           2013  FEMALE                    HISPANIC              Paula   \n",
       "4341           2013  FEMALE                    HISPANIC               Nyah   \n",
       "\n",
       "      Count  Rank  \n",
       "5672     10    40  \n",
       "4344     10    78  \n",
       "4343     10    78  \n",
       "4342     10    78  \n",
       "4341     10    78  "
      ]
     },
     "execution_count": 20,
     "metadata": {},
     "output_type": "execute_result"
    }
   ],
   "source": [
    "# Sort by age in ascending order\n",
    "df_sorted = df.sort_values(by='Count')\n",
    "df_sorted.head()"
   ]
  },
  {
   "cell_type": "code",
   "execution_count": 21,
   "id": "a6769a86",
   "metadata": {
    "execution": {
     "iopub.execute_input": "2023-02-12T16:35:16.905215Z",
     "iopub.status.busy": "2023-02-12T16:35:16.904679Z",
     "iopub.status.idle": "2023-02-12T16:35:16.922308Z",
     "shell.execute_reply": "2023-02-12T16:35:16.921117Z"
    },
    "papermill": {
     "duration": 0.044354,
     "end_time": "2023-02-12T16:35:16.925220",
     "exception": false,
     "start_time": "2023-02-12T16:35:16.880866",
     "status": "completed"
    },
    "tags": []
   },
   "outputs": [
    {
     "data": {
      "text/html": [
       "<div>\n",
       "<style scoped>\n",
       "    .dataframe tbody tr th:only-of-type {\n",
       "        vertical-align: middle;\n",
       "    }\n",
       "\n",
       "    .dataframe tbody tr th {\n",
       "        vertical-align: top;\n",
       "    }\n",
       "\n",
       "    .dataframe thead th {\n",
       "        text-align: right;\n",
       "    }\n",
       "</style>\n",
       "<table border=\"1\" class=\"dataframe\">\n",
       "  <thead>\n",
       "    <tr style=\"text-align: right;\">\n",
       "      <th></th>\n",
       "      <th>Year of Birth</th>\n",
       "      <th>Gender</th>\n",
       "      <th>Ethnicity</th>\n",
       "      <th>Child's First Name</th>\n",
       "      <th>Count</th>\n",
       "      <th>Rank</th>\n",
       "    </tr>\n",
       "  </thead>\n",
       "  <tbody>\n",
       "    <tr>\n",
       "      <th>7236</th>\n",
       "      <td>2014</td>\n",
       "      <td>MALE</td>\n",
       "      <td>WHITE NON HISPANIC</td>\n",
       "      <td>Yidel</td>\n",
       "      <td>10</td>\n",
       "      <td>102</td>\n",
       "    </tr>\n",
       "    <tr>\n",
       "      <th>7224</th>\n",
       "      <td>2014</td>\n",
       "      <td>MALE</td>\n",
       "      <td>WHITE NON HISPANIC</td>\n",
       "      <td>Erik</td>\n",
       "      <td>10</td>\n",
       "      <td>102</td>\n",
       "    </tr>\n",
       "    <tr>\n",
       "      <th>7235</th>\n",
       "      <td>2014</td>\n",
       "      <td>MALE</td>\n",
       "      <td>WHITE NON HISPANIC</td>\n",
       "      <td>Shraga</td>\n",
       "      <td>10</td>\n",
       "      <td>102</td>\n",
       "    </tr>\n",
       "    <tr>\n",
       "      <th>7234</th>\n",
       "      <td>2014</td>\n",
       "      <td>MALE</td>\n",
       "      <td>WHITE NON HISPANIC</td>\n",
       "      <td>Nico</td>\n",
       "      <td>10</td>\n",
       "      <td>102</td>\n",
       "    </tr>\n",
       "    <tr>\n",
       "      <th>7233</th>\n",
       "      <td>2014</td>\n",
       "      <td>MALE</td>\n",
       "      <td>WHITE NON HISPANIC</td>\n",
       "      <td>Myles</td>\n",
       "      <td>10</td>\n",
       "      <td>102</td>\n",
       "    </tr>\n",
       "  </tbody>\n",
       "</table>\n",
       "</div>"
      ],
      "text/plain": [
       "      Year of Birth Gender           Ethnicity Child's First Name  Count  Rank\n",
       "7236           2014   MALE  WHITE NON HISPANIC              Yidel     10   102\n",
       "7224           2014   MALE  WHITE NON HISPANIC               Erik     10   102\n",
       "7235           2014   MALE  WHITE NON HISPANIC             Shraga     10   102\n",
       "7234           2014   MALE  WHITE NON HISPANIC               Nico     10   102\n",
       "7233           2014   MALE  WHITE NON HISPANIC              Myles     10   102"
      ]
     },
     "execution_count": 21,
     "metadata": {},
     "output_type": "execute_result"
    }
   ],
   "source": [
    "# Sort by income in descending order\n",
    "df_sorted = df.sort_values(by='Rank', ascending=False)\n",
    "df_sorted.head()"
   ]
  },
  {
   "cell_type": "code",
   "execution_count": 22,
   "id": "0e8ae4a8",
   "metadata": {
    "execution": {
     "iopub.execute_input": "2023-02-12T16:35:16.971792Z",
     "iopub.status.busy": "2023-02-12T16:35:16.971283Z",
     "iopub.status.idle": "2023-02-12T16:35:16.994146Z",
     "shell.execute_reply": "2023-02-12T16:35:16.992898Z"
    },
    "papermill": {
     "duration": 0.049758,
     "end_time": "2023-02-12T16:35:16.996680",
     "exception": false,
     "start_time": "2023-02-12T16:35:16.946922",
     "status": "completed"
    },
    "tags": []
   },
   "outputs": [
    {
     "data": {
      "text/html": [
       "<div>\n",
       "<style scoped>\n",
       "    .dataframe tbody tr th:only-of-type {\n",
       "        vertical-align: middle;\n",
       "    }\n",
       "\n",
       "    .dataframe tbody tr th {\n",
       "        vertical-align: top;\n",
       "    }\n",
       "\n",
       "    .dataframe thead th {\n",
       "        text-align: right;\n",
       "    }\n",
       "</style>\n",
       "<table border=\"1\" class=\"dataframe\">\n",
       "  <thead>\n",
       "    <tr style=\"text-align: right;\">\n",
       "      <th></th>\n",
       "      <th>Year of Birth</th>\n",
       "      <th>Gender</th>\n",
       "      <th>Ethnicity</th>\n",
       "      <th>Child's First Name</th>\n",
       "      <th>Count</th>\n",
       "      <th>Rank</th>\n",
       "    </tr>\n",
       "  </thead>\n",
       "  <tbody>\n",
       "    <tr>\n",
       "      <th>141</th>\n",
       "      <td>2011</td>\n",
       "      <td>FEMALE</td>\n",
       "      <td>ASIAN AND PACIFIC ISLANDER</td>\n",
       "      <td>AIZA</td>\n",
       "      <td>10</td>\n",
       "      <td>38</td>\n",
       "    </tr>\n",
       "    <tr>\n",
       "      <th>142</th>\n",
       "      <td>2011</td>\n",
       "      <td>FEMALE</td>\n",
       "      <td>ASIAN AND PACIFIC ISLANDER</td>\n",
       "      <td>ALEXA</td>\n",
       "      <td>10</td>\n",
       "      <td>38</td>\n",
       "    </tr>\n",
       "    <tr>\n",
       "      <th>143</th>\n",
       "      <td>2011</td>\n",
       "      <td>FEMALE</td>\n",
       "      <td>ASIAN AND PACIFIC ISLANDER</td>\n",
       "      <td>ALISHA</td>\n",
       "      <td>10</td>\n",
       "      <td>38</td>\n",
       "    </tr>\n",
       "    <tr>\n",
       "      <th>144</th>\n",
       "      <td>2011</td>\n",
       "      <td>FEMALE</td>\n",
       "      <td>ASIAN AND PACIFIC ISLANDER</td>\n",
       "      <td>ANGIE</td>\n",
       "      <td>10</td>\n",
       "      <td>38</td>\n",
       "    </tr>\n",
       "    <tr>\n",
       "      <th>145</th>\n",
       "      <td>2011</td>\n",
       "      <td>FEMALE</td>\n",
       "      <td>ASIAN AND PACIFIC ISLANDER</td>\n",
       "      <td>ANNABELLE</td>\n",
       "      <td>10</td>\n",
       "      <td>38</td>\n",
       "    </tr>\n",
       "  </tbody>\n",
       "</table>\n",
       "</div>"
      ],
      "text/plain": [
       "     Year of Birth  Gender                   Ethnicity Child's First Name  \\\n",
       "141           2011  FEMALE  ASIAN AND PACIFIC ISLANDER               AIZA   \n",
       "142           2011  FEMALE  ASIAN AND PACIFIC ISLANDER              ALEXA   \n",
       "143           2011  FEMALE  ASIAN AND PACIFIC ISLANDER             ALISHA   \n",
       "144           2011  FEMALE  ASIAN AND PACIFIC ISLANDER              ANGIE   \n",
       "145           2011  FEMALE  ASIAN AND PACIFIC ISLANDER          ANNABELLE   \n",
       "\n",
       "     Count  Rank  \n",
       "141     10    38  \n",
       "142     10    38  \n",
       "143     10    38  \n",
       "144     10    38  \n",
       "145     10    38  "
      ]
     },
     "execution_count": 22,
     "metadata": {},
     "output_type": "execute_result"
    }
   ],
   "source": [
    "# Sort by multiple columns\n",
    "df_sorted = df.sort_values(by=['Count', 'Rank'])\n",
    "df_sorted.head()"
   ]
  },
  {
   "cell_type": "markdown",
   "id": "66a92e9e",
   "metadata": {
    "papermill": {
     "duration": 0.021361,
     "end_time": "2023-02-12T16:35:17.039855",
     "exception": false,
     "start_time": "2023-02-12T16:35:17.018494",
     "status": "completed"
    },
    "tags": []
   },
   "source": [
    "In the above example, the first time df.sort_values() is used to sort the DataFrame by 'Count' in ascending order, the second time is used to sort by 'Rank' in descending order, and the last time it's used to sort by multiple columns 'Count' and 'Rank'.\n",
    "\n",
    "It’s important to note that the original DataFrame df remains unchanged and the new DataFrame df_sorted is returned with the sorted values.\n",
    "\n",
    "The .sort_values() method can be used with any column(s) of the DataFrame and it's useful when you want to sort the DataFrame based on multiple columns, or when you want to sort the DataFrame by a column in descending order."
   ]
  },
  {
   "cell_type": "markdown",
   "id": "b61d004e",
   "metadata": {
    "papermill": {
     "duration": 0.021302,
     "end_time": "2023-02-12T16:35:17.082860",
     "exception": false,
     "start_time": "2023-02-12T16:35:17.061558",
     "status": "completed"
    },
    "tags": []
   },
   "source": [
    "## 10. df.sample()\n",
    "Pandas’ .sample() function allows you to randomly select rows from a DataFrame. It returns a new DataFrame containing the randomly selected rows. The function takes several parameters that allow you to control the sampling process, such as the number of rows to return, and whether or not to sample with replacement and seed for reproducibility.\n",
    "\n",
    "Here is an example of how you can use it:\n",
    "\n"
   ]
  },
  {
   "cell_type": "code",
   "execution_count": 23,
   "id": "b3e098e1",
   "metadata": {
    "execution": {
     "iopub.execute_input": "2023-02-12T16:35:17.129862Z",
     "iopub.status.busy": "2023-02-12T16:35:17.129324Z",
     "iopub.status.idle": "2023-02-12T16:35:17.143230Z",
     "shell.execute_reply": "2023-02-12T16:35:17.142331Z"
    },
    "papermill": {
     "duration": 0.040792,
     "end_time": "2023-02-12T16:35:17.145533",
     "exception": false,
     "start_time": "2023-02-12T16:35:17.104741",
     "status": "completed"
    },
    "tags": []
   },
   "outputs": [
    {
     "data": {
      "text/html": [
       "<div>\n",
       "<style scoped>\n",
       "    .dataframe tbody tr th:only-of-type {\n",
       "        vertical-align: middle;\n",
       "    }\n",
       "\n",
       "    .dataframe tbody tr th {\n",
       "        vertical-align: top;\n",
       "    }\n",
       "\n",
       "    .dataframe thead th {\n",
       "        text-align: right;\n",
       "    }\n",
       "</style>\n",
       "<table border=\"1\" class=\"dataframe\">\n",
       "  <thead>\n",
       "    <tr style=\"text-align: right;\">\n",
       "      <th></th>\n",
       "      <th>Year of Birth</th>\n",
       "      <th>Gender</th>\n",
       "      <th>Ethnicity</th>\n",
       "      <th>Child's First Name</th>\n",
       "      <th>Count</th>\n",
       "      <th>Rank</th>\n",
       "    </tr>\n",
       "  </thead>\n",
       "  <tbody>\n",
       "    <tr>\n",
       "      <th>10441</th>\n",
       "      <td>2016</td>\n",
       "      <td>MALE</td>\n",
       "      <td>WHITE NON HISPANIC</td>\n",
       "      <td>Grant</td>\n",
       "      <td>22</td>\n",
       "      <td>87</td>\n",
       "    </tr>\n",
       "    <tr>\n",
       "      <th>8113</th>\n",
       "      <td>2015</td>\n",
       "      <td>FEMALE</td>\n",
       "      <td>ASIAN AND PACIFIC ISLANDER</td>\n",
       "      <td>Alexandra</td>\n",
       "      <td>13</td>\n",
       "      <td>40</td>\n",
       "    </tr>\n",
       "  </tbody>\n",
       "</table>\n",
       "</div>"
      ],
      "text/plain": [
       "       Year of Birth  Gender                   Ethnicity Child's First Name  \\\n",
       "10441           2016    MALE          WHITE NON HISPANIC              Grant   \n",
       "8113            2015  FEMALE  ASIAN AND PACIFIC ISLANDER          Alexandra   \n",
       "\n",
       "       Count  Rank  \n",
       "10441     22    87  \n",
       "8113      13    40  "
      ]
     },
     "execution_count": 23,
     "metadata": {},
     "output_type": "execute_result"
    }
   ],
   "source": [
    "# Sample 2 rows without replacement\n",
    "df_sample = df.sample(n=2, replace=False, random_state=1)\n",
    "df_sample"
   ]
  },
  {
   "cell_type": "code",
   "execution_count": 24,
   "id": "3c07d524",
   "metadata": {
    "execution": {
     "iopub.execute_input": "2023-02-12T16:35:17.192748Z",
     "iopub.status.busy": "2023-02-12T16:35:17.191490Z",
     "iopub.status.idle": "2023-02-12T16:35:17.206358Z",
     "shell.execute_reply": "2023-02-12T16:35:17.205118Z"
    },
    "papermill": {
     "duration": 0.041424,
     "end_time": "2023-02-12T16:35:17.209113",
     "exception": false,
     "start_time": "2023-02-12T16:35:17.167689",
     "status": "completed"
    },
    "tags": []
   },
   "outputs": [
    {
     "data": {
      "text/html": [
       "<div>\n",
       "<style scoped>\n",
       "    .dataframe tbody tr th:only-of-type {\n",
       "        vertical-align: middle;\n",
       "    }\n",
       "\n",
       "    .dataframe tbody tr th {\n",
       "        vertical-align: top;\n",
       "    }\n",
       "\n",
       "    .dataframe thead th {\n",
       "        text-align: right;\n",
       "    }\n",
       "</style>\n",
       "<table border=\"1\" class=\"dataframe\">\n",
       "  <thead>\n",
       "    <tr style=\"text-align: right;\">\n",
       "      <th></th>\n",
       "      <th>Year of Birth</th>\n",
       "      <th>Gender</th>\n",
       "      <th>Ethnicity</th>\n",
       "      <th>Child's First Name</th>\n",
       "      <th>Count</th>\n",
       "      <th>Rank</th>\n",
       "    </tr>\n",
       "  </thead>\n",
       "  <tbody>\n",
       "    <tr>\n",
       "      <th>235</th>\n",
       "      <td>2011</td>\n",
       "      <td>FEMALE</td>\n",
       "      <td>BLACK NON HISPANIC</td>\n",
       "      <td>ANIYA</td>\n",
       "      <td>19</td>\n",
       "      <td>36</td>\n",
       "    </tr>\n",
       "    <tr>\n",
       "      <th>5192</th>\n",
       "      <td>2013</td>\n",
       "      <td>MALE</td>\n",
       "      <td>HISPANIC</td>\n",
       "      <td>Ezequiel</td>\n",
       "      <td>11</td>\n",
       "      <td>94</td>\n",
       "    </tr>\n",
       "    <tr>\n",
       "      <th>905</th>\n",
       "      <td>2011</td>\n",
       "      <td>FEMALE</td>\n",
       "      <td>WHITE NON HISPANIC</td>\n",
       "      <td>GOLDA</td>\n",
       "      <td>14</td>\n",
       "      <td>77</td>\n",
       "    </tr>\n",
       "  </tbody>\n",
       "</table>\n",
       "</div>"
      ],
      "text/plain": [
       "      Year of Birth  Gender           Ethnicity Child's First Name  Count  \\\n",
       "235            2011  FEMALE  BLACK NON HISPANIC              ANIYA     19   \n",
       "5192           2013    MALE            HISPANIC           Ezequiel     11   \n",
       "905            2011  FEMALE  WHITE NON HISPANIC              GOLDA     14   \n",
       "\n",
       "      Rank  \n",
       "235     36  \n",
       "5192    94  \n",
       "905     77  "
      ]
     },
     "execution_count": 24,
     "metadata": {},
     "output_type": "execute_result"
    }
   ],
   "source": [
    "# Sample 3 rows with replacement\n",
    "df_sample = df.sample(n=3, replace=True, random_state=1)\n",
    "df_sample"
   ]
  },
  {
   "cell_type": "code",
   "execution_count": 25,
   "id": "a6948ffd",
   "metadata": {
    "execution": {
     "iopub.execute_input": "2023-02-12T16:35:17.256715Z",
     "iopub.status.busy": "2023-02-12T16:35:17.255254Z",
     "iopub.status.idle": "2023-02-12T16:35:17.272494Z",
     "shell.execute_reply": "2023-02-12T16:35:17.271296Z"
    },
    "papermill": {
     "duration": 0.043743,
     "end_time": "2023-02-12T16:35:17.275154",
     "exception": false,
     "start_time": "2023-02-12T16:35:17.231411",
     "status": "completed"
    },
    "tags": []
   },
   "outputs": [
    {
     "data": {
      "text/html": [
       "<div>\n",
       "<style scoped>\n",
       "    .dataframe tbody tr th:only-of-type {\n",
       "        vertical-align: middle;\n",
       "    }\n",
       "\n",
       "    .dataframe tbody tr th {\n",
       "        vertical-align: top;\n",
       "    }\n",
       "\n",
       "    .dataframe thead th {\n",
       "        text-align: right;\n",
       "    }\n",
       "</style>\n",
       "<table border=\"1\" class=\"dataframe\">\n",
       "  <thead>\n",
       "    <tr style=\"text-align: right;\">\n",
       "      <th></th>\n",
       "      <th>Ethnicity</th>\n",
       "      <th>Gender</th>\n",
       "    </tr>\n",
       "  </thead>\n",
       "  <tbody>\n",
       "    <tr>\n",
       "      <th>0</th>\n",
       "      <td>ASIAN AND PACIFIC ISLANDER</td>\n",
       "      <td>FEMALE</td>\n",
       "    </tr>\n",
       "    <tr>\n",
       "      <th>1</th>\n",
       "      <td>ASIAN AND PACIFIC ISLANDER</td>\n",
       "      <td>FEMALE</td>\n",
       "    </tr>\n",
       "    <tr>\n",
       "      <th>2</th>\n",
       "      <td>ASIAN AND PACIFIC ISLANDER</td>\n",
       "      <td>FEMALE</td>\n",
       "    </tr>\n",
       "    <tr>\n",
       "      <th>3</th>\n",
       "      <td>ASIAN AND PACIFIC ISLANDER</td>\n",
       "      <td>FEMALE</td>\n",
       "    </tr>\n",
       "    <tr>\n",
       "      <th>4</th>\n",
       "      <td>ASIAN AND PACIFIC ISLANDER</td>\n",
       "      <td>FEMALE</td>\n",
       "    </tr>\n",
       "    <tr>\n",
       "      <th>...</th>\n",
       "      <td>...</td>\n",
       "      <td>...</td>\n",
       "    </tr>\n",
       "    <tr>\n",
       "      <th>11340</th>\n",
       "      <td>BLACK NON HISPANIC</td>\n",
       "      <td>FEMALE</td>\n",
       "    </tr>\n",
       "    <tr>\n",
       "      <th>11341</th>\n",
       "      <td>BLACK NON HISPANIC</td>\n",
       "      <td>FEMALE</td>\n",
       "    </tr>\n",
       "    <tr>\n",
       "      <th>11342</th>\n",
       "      <td>BLACK NON HISPANIC</td>\n",
       "      <td>FEMALE</td>\n",
       "    </tr>\n",
       "    <tr>\n",
       "      <th>11343</th>\n",
       "      <td>BLACK NON HISPANIC</td>\n",
       "      <td>FEMALE</td>\n",
       "    </tr>\n",
       "    <tr>\n",
       "      <th>11344</th>\n",
       "      <td>BLACK NON HISPANIC</td>\n",
       "      <td>FEMALE</td>\n",
       "    </tr>\n",
       "  </tbody>\n",
       "</table>\n",
       "<p>11345 rows × 2 columns</p>\n",
       "</div>"
      ],
      "text/plain": [
       "                        Ethnicity  Gender\n",
       "0      ASIAN AND PACIFIC ISLANDER  FEMALE\n",
       "1      ASIAN AND PACIFIC ISLANDER  FEMALE\n",
       "2      ASIAN AND PACIFIC ISLANDER  FEMALE\n",
       "3      ASIAN AND PACIFIC ISLANDER  FEMALE\n",
       "4      ASIAN AND PACIFIC ISLANDER  FEMALE\n",
       "...                           ...     ...\n",
       "11340          BLACK NON HISPANIC  FEMALE\n",
       "11341          BLACK NON HISPANIC  FEMALE\n",
       "11342          BLACK NON HISPANIC  FEMALE\n",
       "11343          BLACK NON HISPANIC  FEMALE\n",
       "11344          BLACK NON HISPANIC  FEMALE\n",
       "\n",
       "[11345 rows x 2 columns]"
      ]
     },
     "execution_count": 25,
     "metadata": {},
     "output_type": "execute_result"
    }
   ],
   "source": [
    "# Sample 2 rows without replacement with specific column to be chosen\n",
    "df_sample = df.sample(n=2, replace=False, random_state=1, axis=1)\n",
    "df_sample"
   ]
  },
  {
   "cell_type": "markdown",
   "id": "2645a4c7",
   "metadata": {
    "papermill": {
     "duration": 0.022056,
     "end_time": "2023-02-12T16:35:17.319497",
     "exception": false,
     "start_time": "2023-02-12T16:35:17.297441",
     "status": "completed"
    },
    "tags": []
   },
   "source": [
    "In the above example, the first time df.sample() is used to randomly select 2 rows without replacement, the second time is used to randomly select 3 rows with replacement and the last time is used to randomly select 2 columns without replacement.\n",
    "\n",
    "It’s important to note that the original DataFrame df remains unchanged and the new DataFrame df_sample is returned with the randomly selected rows.\n",
    "\n",
    "The .sample() method can be useful when you want to randomly select a subset of the data for testing or validation, or when you want to randomly select a sample of rows for further analysis. The random_state parameter is useful for reproducibility and the axis=1 parameter allows you to select columns."
   ]
  },
  {
   "cell_type": "markdown",
   "id": "2e5520c4",
   "metadata": {
    "papermill": {
     "duration": 0.021965,
     "end_time": "2023-02-12T16:35:17.363833",
     "exception": false,
     "start_time": "2023-02-12T16:35:17.341868",
     "status": "completed"
    },
    "tags": []
   },
   "source": [
    "## 11. df.isnull()\n",
    "The isnull() method in Pandas returns a DataFrame of the same shape as the original DataFrame, but with True or False values indicating whether each value in the original DataFrame is missing or not. Missing values, such as NaN or None, will be True in the resulting DataFrame, while non-missing values will be False.\n",
    "\n"
   ]
  },
  {
   "cell_type": "code",
   "execution_count": 26,
   "id": "bf8e20af",
   "metadata": {
    "execution": {
     "iopub.execute_input": "2023-02-12T16:35:17.410947Z",
     "iopub.status.busy": "2023-02-12T16:35:17.410418Z",
     "iopub.status.idle": "2023-02-12T16:35:17.431263Z",
     "shell.execute_reply": "2023-02-12T16:35:17.430081Z"
    },
    "papermill": {
     "duration": 0.047402,
     "end_time": "2023-02-12T16:35:17.433759",
     "exception": false,
     "start_time": "2023-02-12T16:35:17.386357",
     "status": "completed"
    },
    "tags": []
   },
   "outputs": [
    {
     "data": {
      "text/html": [
       "<div>\n",
       "<style scoped>\n",
       "    .dataframe tbody tr th:only-of-type {\n",
       "        vertical-align: middle;\n",
       "    }\n",
       "\n",
       "    .dataframe tbody tr th {\n",
       "        vertical-align: top;\n",
       "    }\n",
       "\n",
       "    .dataframe thead th {\n",
       "        text-align: right;\n",
       "    }\n",
       "</style>\n",
       "<table border=\"1\" class=\"dataframe\">\n",
       "  <thead>\n",
       "    <tr style=\"text-align: right;\">\n",
       "      <th></th>\n",
       "      <th>Year of Birth</th>\n",
       "      <th>Gender</th>\n",
       "      <th>Ethnicity</th>\n",
       "      <th>Child's First Name</th>\n",
       "      <th>Count</th>\n",
       "      <th>Rank</th>\n",
       "    </tr>\n",
       "  </thead>\n",
       "  <tbody>\n",
       "    <tr>\n",
       "      <th>0</th>\n",
       "      <td>False</td>\n",
       "      <td>False</td>\n",
       "      <td>False</td>\n",
       "      <td>False</td>\n",
       "      <td>False</td>\n",
       "      <td>False</td>\n",
       "    </tr>\n",
       "    <tr>\n",
       "      <th>1</th>\n",
       "      <td>False</td>\n",
       "      <td>False</td>\n",
       "      <td>False</td>\n",
       "      <td>False</td>\n",
       "      <td>False</td>\n",
       "      <td>False</td>\n",
       "    </tr>\n",
       "    <tr>\n",
       "      <th>2</th>\n",
       "      <td>False</td>\n",
       "      <td>False</td>\n",
       "      <td>False</td>\n",
       "      <td>False</td>\n",
       "      <td>False</td>\n",
       "      <td>False</td>\n",
       "    </tr>\n",
       "    <tr>\n",
       "      <th>3</th>\n",
       "      <td>False</td>\n",
       "      <td>False</td>\n",
       "      <td>False</td>\n",
       "      <td>False</td>\n",
       "      <td>False</td>\n",
       "      <td>False</td>\n",
       "    </tr>\n",
       "    <tr>\n",
       "      <th>4</th>\n",
       "      <td>False</td>\n",
       "      <td>False</td>\n",
       "      <td>False</td>\n",
       "      <td>False</td>\n",
       "      <td>False</td>\n",
       "      <td>False</td>\n",
       "    </tr>\n",
       "    <tr>\n",
       "      <th>...</th>\n",
       "      <td>...</td>\n",
       "      <td>...</td>\n",
       "      <td>...</td>\n",
       "      <td>...</td>\n",
       "      <td>...</td>\n",
       "      <td>...</td>\n",
       "    </tr>\n",
       "    <tr>\n",
       "      <th>11340</th>\n",
       "      <td>False</td>\n",
       "      <td>False</td>\n",
       "      <td>False</td>\n",
       "      <td>False</td>\n",
       "      <td>False</td>\n",
       "      <td>False</td>\n",
       "    </tr>\n",
       "    <tr>\n",
       "      <th>11341</th>\n",
       "      <td>False</td>\n",
       "      <td>False</td>\n",
       "      <td>False</td>\n",
       "      <td>False</td>\n",
       "      <td>False</td>\n",
       "      <td>False</td>\n",
       "    </tr>\n",
       "    <tr>\n",
       "      <th>11342</th>\n",
       "      <td>False</td>\n",
       "      <td>False</td>\n",
       "      <td>False</td>\n",
       "      <td>False</td>\n",
       "      <td>False</td>\n",
       "      <td>False</td>\n",
       "    </tr>\n",
       "    <tr>\n",
       "      <th>11343</th>\n",
       "      <td>False</td>\n",
       "      <td>False</td>\n",
       "      <td>False</td>\n",
       "      <td>False</td>\n",
       "      <td>False</td>\n",
       "      <td>False</td>\n",
       "    </tr>\n",
       "    <tr>\n",
       "      <th>11344</th>\n",
       "      <td>False</td>\n",
       "      <td>False</td>\n",
       "      <td>False</td>\n",
       "      <td>False</td>\n",
       "      <td>False</td>\n",
       "      <td>False</td>\n",
       "    </tr>\n",
       "  </tbody>\n",
       "</table>\n",
       "<p>11345 rows × 6 columns</p>\n",
       "</div>"
      ],
      "text/plain": [
       "       Year of Birth  Gender  Ethnicity  Child's First Name  Count   Rank\n",
       "0              False   False      False               False  False  False\n",
       "1              False   False      False               False  False  False\n",
       "2              False   False      False               False  False  False\n",
       "3              False   False      False               False  False  False\n",
       "4              False   False      False               False  False  False\n",
       "...              ...     ...        ...                 ...    ...    ...\n",
       "11340          False   False      False               False  False  False\n",
       "11341          False   False      False               False  False  False\n",
       "11342          False   False      False               False  False  False\n",
       "11343          False   False      False               False  False  False\n",
       "11344          False   False      False               False  False  False\n",
       "\n",
       "[11345 rows x 6 columns]"
      ]
     },
     "execution_count": 26,
     "metadata": {},
     "output_type": "execute_result"
    }
   ],
   "source": [
    "df.isnull()"
   ]
  },
  {
   "cell_type": "markdown",
   "id": "ffc2b851",
   "metadata": {
    "papermill": {
     "duration": 0.022278,
     "end_time": "2023-02-12T16:35:17.478870",
     "exception": false,
     "start_time": "2023-02-12T16:35:17.456592",
     "status": "completed"
    },
    "tags": []
   },
   "source": [
    "## 12. df.fillna()\n",
    "\n",
    "The **fillna()** method in Pandas is used to fill in missing values in a DataFrame with a specified value or method. By default, it replaces missing values with NaN, but you can specify a different value to use instead as shown below:\n",
    "\n",
    "* value: Specifies the value to use to fill in the missing values. Can be a scalar value or a dict of values for different columns.\n",
    "* method: Specifies the method to use for filling in missing values. Can be 'ffill' (forward-fill) or 'bfill' (backward-fill) or 'interpolate'(interpolate values) or 'pad' or 'backfill'\n",
    "* axis: Specifies the axis along which to fill in missing values. It can be 0 (rows) or 1 (columns).\n",
    "* inplace: Whether to fill in the missing values in place (modifying the original DataFrame) or to return a new DataFrame with the missing values filled in.\n",
    "* limit: Specifies the maximum number of consecutive missing values to fill.\n",
    "* downcast: Specifies a dictionary of values to use to downcast the data types of columns.\n"
   ]
  },
  {
   "cell_type": "code",
   "execution_count": 27,
   "id": "41c3b9e8",
   "metadata": {
    "execution": {
     "iopub.execute_input": "2023-02-12T16:35:17.527207Z",
     "iopub.status.busy": "2023-02-12T16:35:17.526650Z",
     "iopub.status.idle": "2023-02-12T16:35:17.559608Z",
     "shell.execute_reply": "2023-02-12T16:35:17.558326Z"
    },
    "papermill": {
     "duration": 0.061226,
     "end_time": "2023-02-12T16:35:17.562686",
     "exception": false,
     "start_time": "2023-02-12T16:35:17.501460",
     "status": "completed"
    },
    "tags": []
   },
   "outputs": [
    {
     "data": {
      "text/html": [
       "<div>\n",
       "<style scoped>\n",
       "    .dataframe tbody tr th:only-of-type {\n",
       "        vertical-align: middle;\n",
       "    }\n",
       "\n",
       "    .dataframe tbody tr th {\n",
       "        vertical-align: top;\n",
       "    }\n",
       "\n",
       "    .dataframe thead th {\n",
       "        text-align: right;\n",
       "    }\n",
       "</style>\n",
       "<table border=\"1\" class=\"dataframe\">\n",
       "  <thead>\n",
       "    <tr style=\"text-align: right;\">\n",
       "      <th></th>\n",
       "      <th>Year of Birth</th>\n",
       "      <th>Gender</th>\n",
       "      <th>Ethnicity</th>\n",
       "      <th>Child's First Name</th>\n",
       "      <th>Count</th>\n",
       "      <th>Rank</th>\n",
       "    </tr>\n",
       "  </thead>\n",
       "  <tbody>\n",
       "    <tr>\n",
       "      <th>0</th>\n",
       "      <td>2011</td>\n",
       "      <td>FEMALE</td>\n",
       "      <td>ASIAN AND PACIFIC ISLANDER</td>\n",
       "      <td>SOPHIA</td>\n",
       "      <td>119</td>\n",
       "      <td>1</td>\n",
       "    </tr>\n",
       "    <tr>\n",
       "      <th>1</th>\n",
       "      <td>2011</td>\n",
       "      <td>FEMALE</td>\n",
       "      <td>ASIAN AND PACIFIC ISLANDER</td>\n",
       "      <td>CHLOE</td>\n",
       "      <td>106</td>\n",
       "      <td>2</td>\n",
       "    </tr>\n",
       "    <tr>\n",
       "      <th>2</th>\n",
       "      <td>2011</td>\n",
       "      <td>FEMALE</td>\n",
       "      <td>ASIAN AND PACIFIC ISLANDER</td>\n",
       "      <td>EMILY</td>\n",
       "      <td>93</td>\n",
       "      <td>3</td>\n",
       "    </tr>\n",
       "    <tr>\n",
       "      <th>3</th>\n",
       "      <td>2011</td>\n",
       "      <td>FEMALE</td>\n",
       "      <td>ASIAN AND PACIFIC ISLANDER</td>\n",
       "      <td>OLIVIA</td>\n",
       "      <td>89</td>\n",
       "      <td>4</td>\n",
       "    </tr>\n",
       "    <tr>\n",
       "      <th>4</th>\n",
       "      <td>2011</td>\n",
       "      <td>FEMALE</td>\n",
       "      <td>ASIAN AND PACIFIC ISLANDER</td>\n",
       "      <td>EMMA</td>\n",
       "      <td>75</td>\n",
       "      <td>5</td>\n",
       "    </tr>\n",
       "    <tr>\n",
       "      <th>...</th>\n",
       "      <td>...</td>\n",
       "      <td>...</td>\n",
       "      <td>...</td>\n",
       "      <td>...</td>\n",
       "      <td>...</td>\n",
       "      <td>...</td>\n",
       "    </tr>\n",
       "    <tr>\n",
       "      <th>11340</th>\n",
       "      <td>2016</td>\n",
       "      <td>FEMALE</td>\n",
       "      <td>BLACK NON HISPANIC</td>\n",
       "      <td>Saniyah</td>\n",
       "      <td>10</td>\n",
       "      <td>43</td>\n",
       "    </tr>\n",
       "    <tr>\n",
       "      <th>11341</th>\n",
       "      <td>2016</td>\n",
       "      <td>FEMALE</td>\n",
       "      <td>BLACK NON HISPANIC</td>\n",
       "      <td>Skye</td>\n",
       "      <td>10</td>\n",
       "      <td>43</td>\n",
       "    </tr>\n",
       "    <tr>\n",
       "      <th>11342</th>\n",
       "      <td>2016</td>\n",
       "      <td>FEMALE</td>\n",
       "      <td>BLACK NON HISPANIC</td>\n",
       "      <td>Tiana</td>\n",
       "      <td>10</td>\n",
       "      <td>43</td>\n",
       "    </tr>\n",
       "    <tr>\n",
       "      <th>11343</th>\n",
       "      <td>2016</td>\n",
       "      <td>FEMALE</td>\n",
       "      <td>BLACK NON HISPANIC</td>\n",
       "      <td>Violet</td>\n",
       "      <td>10</td>\n",
       "      <td>43</td>\n",
       "    </tr>\n",
       "    <tr>\n",
       "      <th>11344</th>\n",
       "      <td>2016</td>\n",
       "      <td>FEMALE</td>\n",
       "      <td>BLACK NON HISPANIC</td>\n",
       "      <td>Zahra</td>\n",
       "      <td>10</td>\n",
       "      <td>43</td>\n",
       "    </tr>\n",
       "  </tbody>\n",
       "</table>\n",
       "<p>11345 rows × 6 columns</p>\n",
       "</div>"
      ],
      "text/plain": [
       "       Year of Birth  Gender                   Ethnicity Child's First Name  \\\n",
       "0               2011  FEMALE  ASIAN AND PACIFIC ISLANDER             SOPHIA   \n",
       "1               2011  FEMALE  ASIAN AND PACIFIC ISLANDER              CHLOE   \n",
       "2               2011  FEMALE  ASIAN AND PACIFIC ISLANDER              EMILY   \n",
       "3               2011  FEMALE  ASIAN AND PACIFIC ISLANDER             OLIVIA   \n",
       "4               2011  FEMALE  ASIAN AND PACIFIC ISLANDER               EMMA   \n",
       "...              ...     ...                         ...                ...   \n",
       "11340           2016  FEMALE          BLACK NON HISPANIC            Saniyah   \n",
       "11341           2016  FEMALE          BLACK NON HISPANIC               Skye   \n",
       "11342           2016  FEMALE          BLACK NON HISPANIC              Tiana   \n",
       "11343           2016  FEMALE          BLACK NON HISPANIC             Violet   \n",
       "11344           2016  FEMALE          BLACK NON HISPANIC              Zahra   \n",
       "\n",
       "       Count  Rank  \n",
       "0        119     1  \n",
       "1        106     2  \n",
       "2         93     3  \n",
       "3         89     4  \n",
       "4         75     5  \n",
       "...      ...   ...  \n",
       "11340     10    43  \n",
       "11341     10    43  \n",
       "11342     10    43  \n",
       "11343     10    43  \n",
       "11344     10    43  \n",
       "\n",
       "[11345 rows x 6 columns]"
      ]
     },
     "execution_count": 27,
     "metadata": {},
     "output_type": "execute_result"
    }
   ],
   "source": [
    "# fill missing values with 0\n",
    "df.fillna(0)\n",
    "\n",
    "# forward-fill missing values (propagates last valid observation forward to next)\n",
    "df.fillna(method='ffill')\n",
    "\n",
    "# backward-fill missing values (propagates next valid observation backward to last)\n",
    "df.fillna(method='bfill')\n",
    "\n",
    "# fill missing values using interpolation\n",
    "df.interpolate()"
   ]
  },
  {
   "cell_type": "markdown",
   "id": "7d25ccde",
   "metadata": {
    "papermill": {
     "duration": 0.022431,
     "end_time": "2023-02-12T16:35:17.608199",
     "exception": false,
     "start_time": "2023-02-12T16:35:17.585768",
     "status": "completed"
    },
    "tags": []
   },
   "source": [
    "It is important to note that the fillna() method returns a new DataFrame with the missing values filled in and does not modify the original DataFrame in place. If you want to modify the original DataFrame, you can use the inplace parameter and set it to True."
   ]
  },
  {
   "cell_type": "code",
   "execution_count": 28,
   "id": "ef3ab405",
   "metadata": {
    "execution": {
     "iopub.execute_input": "2023-02-12T16:35:17.658149Z",
     "iopub.status.busy": "2023-02-12T16:35:17.657113Z",
     "iopub.status.idle": "2023-02-12T16:35:17.665692Z",
     "shell.execute_reply": "2023-02-12T16:35:17.664525Z"
    },
    "papermill": {
     "duration": 0.036208,
     "end_time": "2023-02-12T16:35:17.668138",
     "exception": false,
     "start_time": "2023-02-12T16:35:17.631930",
     "status": "completed"
    },
    "tags": []
   },
   "outputs": [],
   "source": [
    "# fill missing values in place\n",
    "df.fillna(0, inplace=True)"
   ]
  },
  {
   "cell_type": "markdown",
   "id": "4b773075",
   "metadata": {
    "papermill": {
     "duration": 0.025641,
     "end_time": "2023-02-12T16:35:17.716894",
     "exception": false,
     "start_time": "2023-02-12T16:35:17.691253",
     "status": "completed"
    },
    "tags": []
   },
   "source": [
    "## 13. df.dropna()\n",
    "**df.dropna()** is a method used in the Pandas library to remove missing or null values from a DataFrame. It removes rows or columns from the DataFrame where at least one element is missing.\n",
    "\n",
    "You can remove all rows containing at least one missing value by calling df.dropna().\n",
    "\n"
   ]
  },
  {
   "cell_type": "code",
   "execution_count": 29,
   "id": "739f7ffc",
   "metadata": {
    "execution": {
     "iopub.execute_input": "2023-02-12T16:35:17.765791Z",
     "iopub.status.busy": "2023-02-12T16:35:17.765271Z",
     "iopub.status.idle": "2023-02-12T16:35:17.779124Z",
     "shell.execute_reply": "2023-02-12T16:35:17.777533Z"
    },
    "papermill": {
     "duration": 0.041724,
     "end_time": "2023-02-12T16:35:17.782296",
     "exception": false,
     "start_time": "2023-02-12T16:35:17.740572",
     "status": "completed"
    },
    "tags": []
   },
   "outputs": [],
   "source": [
    "df_drop_na = df.dropna()"
   ]
  },
  {
   "cell_type": "markdown",
   "id": "dba8c944",
   "metadata": {
    "papermill": {
     "duration": 0.02236,
     "end_time": "2023-02-12T16:35:17.827575",
     "exception": false,
     "start_time": "2023-02-12T16:35:17.805215",
     "status": "completed"
    },
    "tags": []
   },
   "source": [
    "If you want to remove only the columns that contain at least one missing value you can use df.dropna(axis=1)"
   ]
  },
  {
   "cell_type": "code",
   "execution_count": 30,
   "id": "2cad2f98",
   "metadata": {
    "execution": {
     "iopub.execute_input": "2023-02-12T16:35:17.877068Z",
     "iopub.status.busy": "2023-02-12T16:35:17.876558Z",
     "iopub.status.idle": "2023-02-12T16:35:17.889049Z",
     "shell.execute_reply": "2023-02-12T16:35:17.887522Z"
    },
    "papermill": {
     "duration": 0.0402,
     "end_time": "2023-02-12T16:35:17.892006",
     "exception": false,
     "start_time": "2023-02-12T16:35:17.851806",
     "status": "completed"
    },
    "tags": []
   },
   "outputs": [],
   "source": [
    "df_drop_na = df.dropna(axis=1)"
   ]
  },
  {
   "cell_type": "markdown",
   "id": "5937e309",
   "metadata": {
    "papermill": {
     "duration": 0.022724,
     "end_time": "2023-02-12T16:35:17.937916",
     "exception": false,
     "start_time": "2023-02-12T16:35:17.915192",
     "status": "completed"
    },
    "tags": []
   },
   "source": [
    "You can also set thresh parameter to keep only the rows/columns that have at least thresh non-NA/null values."
   ]
  },
  {
   "cell_type": "code",
   "execution_count": 31,
   "id": "40de28b7",
   "metadata": {
    "execution": {
     "iopub.execute_input": "2023-02-12T16:35:17.987836Z",
     "iopub.status.busy": "2023-02-12T16:35:17.986485Z",
     "iopub.status.idle": "2023-02-12T16:35:17.998599Z",
     "shell.execute_reply": "2023-02-12T16:35:17.997291Z"
    },
    "papermill": {
     "duration": 0.039959,
     "end_time": "2023-02-12T16:35:18.001476",
     "exception": false,
     "start_time": "2023-02-12T16:35:17.961517",
     "status": "completed"
    },
    "tags": []
   },
   "outputs": [],
   "source": [
    "df_drop_na = df.dropna(thresh=2)"
   ]
  },
  {
   "cell_type": "markdown",
   "id": "ca6afc4f",
   "metadata": {
    "papermill": {
     "duration": 0.022695,
     "end_time": "2023-02-12T16:35:18.047124",
     "exception": false,
     "start_time": "2023-02-12T16:35:18.024429",
     "status": "completed"
    },
    "tags": []
   },
   "source": [
    "## 14. df.drop()\n",
    "\n",
    "**df.drop()** is a method used in the Pandas library to remove rows or columns from a DataFrame by specifying the corresponding labels. It can be used to drop one or multiple rows or columns based on their labels.\n",
    "\n",
    "You can remove a specific row by calling df.drop() and passing the index label of the row you want to remove, and the axis parameter set to 0 (default is 0)"
   ]
  },
  {
   "cell_type": "code",
   "execution_count": 32,
   "id": "d2299d03",
   "metadata": {
    "execution": {
     "iopub.execute_input": "2023-02-12T16:35:18.096108Z",
     "iopub.status.busy": "2023-02-12T16:35:18.094899Z",
     "iopub.status.idle": "2023-02-12T16:35:18.102275Z",
     "shell.execute_reply": "2023-02-12T16:35:18.101335Z"
    },
    "papermill": {
     "duration": 0.034308,
     "end_time": "2023-02-12T16:35:18.104574",
     "exception": false,
     "start_time": "2023-02-12T16:35:18.070266",
     "status": "completed"
    },
    "tags": []
   },
   "outputs": [],
   "source": [
    "df_drop = df.drop(0)"
   ]
  },
  {
   "cell_type": "markdown",
   "id": "59ca53f2",
   "metadata": {
    "papermill": {
     "duration": 0.022829,
     "end_time": "2023-02-12T16:35:18.150834",
     "exception": false,
     "start_time": "2023-02-12T16:35:18.128005",
     "status": "completed"
    },
    "tags": []
   },
   "source": [
    "This would remove the first row of the DataFrame.\n",
    "\n",
    "You can also drop multiple rows by passing a list of index labels:\n",
    "\n"
   ]
  },
  {
   "cell_type": "code",
   "execution_count": 33,
   "id": "f799a37b",
   "metadata": {
    "execution": {
     "iopub.execute_input": "2023-02-12T16:35:18.199831Z",
     "iopub.status.busy": "2023-02-12T16:35:18.198780Z",
     "iopub.status.idle": "2023-02-12T16:35:18.208132Z",
     "shell.execute_reply": "2023-02-12T16:35:18.206507Z"
    },
    "papermill": {
     "duration": 0.036683,
     "end_time": "2023-02-12T16:35:18.210608",
     "exception": false,
     "start_time": "2023-02-12T16:35:18.173925",
     "status": "completed"
    },
    "tags": []
   },
   "outputs": [],
   "source": [
    "df_drop = df.drop([0,1])"
   ]
  },
  {
   "cell_type": "markdown",
   "id": "4cfe5ffb",
   "metadata": {
    "papermill": {
     "duration": 0.023017,
     "end_time": "2023-02-12T16:35:18.256687",
     "exception": false,
     "start_time": "2023-02-12T16:35:18.233670",
     "status": "completed"
    },
    "tags": []
   },
   "source": [
    "This would remove the first and second rows of the DataFrame.\n",
    "\n",
    "Similarly, you can drop columns by passing the labels of the columns you want to remove and setting the axis parameter to 1:"
   ]
  },
  {
   "cell_type": "code",
   "execution_count": 34,
   "id": "932c7f4d",
   "metadata": {
    "execution": {
     "iopub.execute_input": "2023-02-12T16:35:18.305130Z",
     "iopub.status.busy": "2023-02-12T16:35:18.304569Z",
     "iopub.status.idle": "2023-02-12T16:35:18.312530Z",
     "shell.execute_reply": "2023-02-12T16:35:18.311317Z"
    },
    "papermill": {
     "duration": 0.035349,
     "end_time": "2023-02-12T16:35:18.315209",
     "exception": false,
     "start_time": "2023-02-12T16:35:18.279860",
     "status": "completed"
    },
    "tags": []
   },
   "outputs": [],
   "source": [
    "df_drop = df.drop(['Count', 'Rank'], axis=1)"
   ]
  },
  {
   "cell_type": "markdown",
   "id": "aa33fa23",
   "metadata": {
    "papermill": {
     "duration": 0.022876,
     "end_time": "2023-02-12T16:35:18.361072",
     "exception": false,
     "start_time": "2023-02-12T16:35:18.338196",
     "status": "completed"
    },
    "tags": []
   },
   "source": [
    "## 15. pd.pivot_table()\n",
    "\n",
    "**pd.pivot_table()** is a method in the Pandas library that is used to create a pivot table from a DataFrame. A pivot table is a table that summarizes and aggregates data in a more meaningful and organized way, by creating a new table with one or more columns as the index, one or more columns as values, and one or more columns as attributes.\n",
    "\n",
    "In the example below we will create a pivot table with Ethnicity as the index and aggregate the sum of the count. This is used to know the count of each Ethnicity in the dataset.\n",
    "\n"
   ]
  },
  {
   "cell_type": "code",
   "execution_count": 35,
   "id": "691ef660",
   "metadata": {
    "execution": {
     "iopub.execute_input": "2023-02-12T16:35:18.409903Z",
     "iopub.status.busy": "2023-02-12T16:35:18.408925Z",
     "iopub.status.idle": "2023-02-12T16:35:18.430115Z",
     "shell.execute_reply": "2023-02-12T16:35:18.428757Z"
    },
    "papermill": {
     "duration": 0.048936,
     "end_time": "2023-02-12T16:35:18.432759",
     "exception": false,
     "start_time": "2023-02-12T16:35:18.383823",
     "status": "completed"
    },
    "tags": []
   },
   "outputs": [
    {
     "data": {
      "text/html": [
       "<div>\n",
       "<style scoped>\n",
       "    .dataframe tbody tr th:only-of-type {\n",
       "        vertical-align: middle;\n",
       "    }\n",
       "\n",
       "    .dataframe tbody tr th {\n",
       "        vertical-align: top;\n",
       "    }\n",
       "\n",
       "    .dataframe thead th {\n",
       "        text-align: right;\n",
       "    }\n",
       "</style>\n",
       "<table border=\"1\" class=\"dataframe\">\n",
       "  <thead>\n",
       "    <tr style=\"text-align: right;\">\n",
       "      <th></th>\n",
       "      <th>Count</th>\n",
       "    </tr>\n",
       "    <tr>\n",
       "      <th>Ethnicity</th>\n",
       "      <th></th>\n",
       "    </tr>\n",
       "  </thead>\n",
       "  <tbody>\n",
       "    <tr>\n",
       "      <th>ASIAN AND PACI</th>\n",
       "      <td>9185</td>\n",
       "    </tr>\n",
       "    <tr>\n",
       "      <th>ASIAN AND PACIFIC ISLANDER</th>\n",
       "      <td>41500</td>\n",
       "    </tr>\n",
       "    <tr>\n",
       "      <th>BLACK NON HISP</th>\n",
       "      <td>8802</td>\n",
       "    </tr>\n",
       "    <tr>\n",
       "      <th>BLACK NON HISPANIC</th>\n",
       "      <td>45179</td>\n",
       "    </tr>\n",
       "    <tr>\n",
       "      <th>HISPANIC</th>\n",
       "      <td>122805</td>\n",
       "    </tr>\n",
       "  </tbody>\n",
       "</table>\n",
       "</div>"
      ],
      "text/plain": [
       "                             Count\n",
       "Ethnicity                         \n",
       "ASIAN AND PACI                9185\n",
       "ASIAN AND PACIFIC ISLANDER   41500\n",
       "BLACK NON HISP                8802\n",
       "BLACK NON HISPANIC           45179\n",
       "HISPANIC                    122805"
      ]
     },
     "execution_count": 35,
     "metadata": {},
     "output_type": "execute_result"
    }
   ],
   "source": [
    "pivot_table = pd.pivot_table(df, index='Ethnicity', values='Count', aggfunc='sum')\n",
    "pivot_table.head()"
   ]
  },
  {
   "cell_type": "markdown",
   "id": "26b27907",
   "metadata": {
    "papermill": {
     "duration": 0.023514,
     "end_time": "2023-02-12T16:35:18.479467",
     "exception": false,
     "start_time": "2023-02-12T16:35:18.455953",
     "status": "completed"
    },
    "tags": []
   },
   "source": [
    "You can also include more columns in the pivot table by specifying multiple index and values parameters and also include multiple aggfunc functions.\n",
    "\n"
   ]
  },
  {
   "cell_type": "code",
   "execution_count": 36,
   "id": "4be75d52",
   "metadata": {
    "execution": {
     "iopub.execute_input": "2023-02-12T16:35:18.528327Z",
     "iopub.status.busy": "2023-02-12T16:35:18.527371Z",
     "iopub.status.idle": "2023-02-12T16:35:18.564085Z",
     "shell.execute_reply": "2023-02-12T16:35:18.562454Z"
    },
    "papermill": {
     "duration": 0.064714,
     "end_time": "2023-02-12T16:35:18.567134",
     "exception": false,
     "start_time": "2023-02-12T16:35:18.502420",
     "status": "completed"
    },
    "tags": []
   },
   "outputs": [
    {
     "data": {
      "text/html": [
       "<div>\n",
       "<style scoped>\n",
       "    .dataframe tbody tr th:only-of-type {\n",
       "        vertical-align: middle;\n",
       "    }\n",
       "\n",
       "    .dataframe tbody tr th {\n",
       "        vertical-align: top;\n",
       "    }\n",
       "\n",
       "    .dataframe thead tr th {\n",
       "        text-align: left;\n",
       "    }\n",
       "\n",
       "    .dataframe thead tr:last-of-type th {\n",
       "        text-align: right;\n",
       "    }\n",
       "</style>\n",
       "<table border=\"1\" class=\"dataframe\">\n",
       "  <thead>\n",
       "    <tr>\n",
       "      <th></th>\n",
       "      <th></th>\n",
       "      <th>sum</th>\n",
       "      <th>count</th>\n",
       "    </tr>\n",
       "    <tr>\n",
       "      <th></th>\n",
       "      <th></th>\n",
       "      <th>Count</th>\n",
       "      <th>Count</th>\n",
       "    </tr>\n",
       "    <tr>\n",
       "      <th>Ethnicity</th>\n",
       "      <th>Gender</th>\n",
       "      <th></th>\n",
       "      <th></th>\n",
       "    </tr>\n",
       "  </thead>\n",
       "  <tbody>\n",
       "    <tr>\n",
       "      <th rowspan=\"2\" valign=\"top\">ASIAN AND PACI</th>\n",
       "      <th>FEMALE</th>\n",
       "      <td>4072</td>\n",
       "      <td>171</td>\n",
       "    </tr>\n",
       "    <tr>\n",
       "      <th>MALE</th>\n",
       "      <td>5113</td>\n",
       "      <td>164</td>\n",
       "    </tr>\n",
       "    <tr>\n",
       "      <th rowspan=\"3\" valign=\"top\">ASIAN AND PACIFIC ISLANDER</th>\n",
       "      <th>FEMALE</th>\n",
       "      <td>17055</td>\n",
       "      <td>777</td>\n",
       "    </tr>\n",
       "    <tr>\n",
       "      <th>MALE</th>\n",
       "      <td>23467</td>\n",
       "      <td>835</td>\n",
       "    </tr>\n",
       "    <tr>\n",
       "      <th>female</th>\n",
       "      <td>978</td>\n",
       "      <td>50</td>\n",
       "    </tr>\n",
       "    <tr>\n",
       "      <th rowspan=\"2\" valign=\"top\">BLACK NON HISP</th>\n",
       "      <th>FEMALE</th>\n",
       "      <td>3693</td>\n",
       "      <td>159</td>\n",
       "    </tr>\n",
       "    <tr>\n",
       "      <th>MALE</th>\n",
       "      <td>5109</td>\n",
       "      <td>169</td>\n",
       "    </tr>\n",
       "    <tr>\n",
       "      <th rowspan=\"2\" valign=\"top\">BLACK NON HISPANIC</th>\n",
       "      <th>FEMALE</th>\n",
       "      <td>19288</td>\n",
       "      <td>848</td>\n",
       "    </tr>\n",
       "    <tr>\n",
       "      <th>MALE</th>\n",
       "      <td>25891</td>\n",
       "      <td>856</td>\n",
       "    </tr>\n",
       "    <tr>\n",
       "      <th rowspan=\"2\" valign=\"top\">HISPANIC</th>\n",
       "      <th>FEMALE</th>\n",
       "      <td>52225</td>\n",
       "      <td>1704</td>\n",
       "    </tr>\n",
       "    <tr>\n",
       "      <th>MALE</th>\n",
       "      <td>70580</td>\n",
       "      <td>1610</td>\n",
       "    </tr>\n",
       "    <tr>\n",
       "      <th rowspan=\"2\" valign=\"top\">WHITE NON HISP</th>\n",
       "      <th>FEMALE</th>\n",
       "      <td>10954</td>\n",
       "      <td>341</td>\n",
       "    </tr>\n",
       "    <tr>\n",
       "      <th>MALE</th>\n",
       "      <td>12850</td>\n",
       "      <td>296</td>\n",
       "    </tr>\n",
       "    <tr>\n",
       "      <th rowspan=\"2\" valign=\"top\">WHITE NON HISPANIC</th>\n",
       "      <th>FEMALE</th>\n",
       "      <td>56700</td>\n",
       "      <td>1756</td>\n",
       "    </tr>\n",
       "    <tr>\n",
       "      <th>MALE</th>\n",
       "      <td>64559</td>\n",
       "      <td>1609</td>\n",
       "    </tr>\n",
       "  </tbody>\n",
       "</table>\n",
       "</div>"
      ],
      "text/plain": [
       "                                     sum count\n",
       "                                   Count Count\n",
       "Ethnicity                  Gender             \n",
       "ASIAN AND PACI             FEMALE   4072   171\n",
       "                           MALE     5113   164\n",
       "ASIAN AND PACIFIC ISLANDER FEMALE  17055   777\n",
       "                           MALE    23467   835\n",
       "                           female    978    50\n",
       "BLACK NON HISP             FEMALE   3693   159\n",
       "                           MALE     5109   169\n",
       "BLACK NON HISPANIC         FEMALE  19288   848\n",
       "                           MALE    25891   856\n",
       "HISPANIC                   FEMALE  52225  1704\n",
       "                           MALE    70580  1610\n",
       "WHITE NON HISP             FEMALE  10954   341\n",
       "                           MALE    12850   296\n",
       "WHITE NON HISPANIC         FEMALE  56700  1756\n",
       "                           MALE    64559  1609"
      ]
     },
     "execution_count": 36,
     "metadata": {},
     "output_type": "execute_result"
    }
   ],
   "source": [
    "pivot_table = pd.pivot_table(df, index=['Ethnicity','Gender'], values= 'Count' , aggfunc=['sum','count'])\n",
    "pivot_table.head(20)"
   ]
  },
  {
   "cell_type": "markdown",
   "id": "ec8457d4",
   "metadata": {
    "papermill": {
     "duration": 0.023784,
     "end_time": "2023-02-12T16:35:18.614687",
     "exception": false,
     "start_time": "2023-02-12T16:35:18.590903",
     "status": "completed"
    },
    "tags": []
   },
   "source": [
    "## 16. df.groupby()\n",
    "\n",
    "**df.groupby()** is a method in the Pandas library that is used to group rows of a DataFrame based on one or multiple columns. This allows you to perform aggregate operations on the groups, such as calculating the mean, sum, or count of the values in each group.\n",
    "\n",
    "df.groupby() returns a GroupBy object, which you can then use to perform various operations on the groups, such as calculating the sum, mean, or count of the values in each group.\n",
    "\n",
    "Let's see an example using the birth names dataset:\n",
    "\n"
   ]
  },
  {
   "cell_type": "code",
   "execution_count": 37,
   "id": "ad9acff0",
   "metadata": {
    "execution": {
     "iopub.execute_input": "2023-02-12T16:35:18.664039Z",
     "iopub.status.busy": "2023-02-12T16:35:18.663510Z",
     "iopub.status.idle": "2023-02-12T16:35:18.680480Z",
     "shell.execute_reply": "2023-02-12T16:35:18.679001Z"
    },
    "papermill": {
     "duration": 0.04562,
     "end_time": "2023-02-12T16:35:18.684137",
     "exception": false,
     "start_time": "2023-02-12T16:35:18.638517",
     "status": "completed"
    },
    "tags": []
   },
   "outputs": [
    {
     "name": "stdout",
     "output_type": "stream",
     "text": [
      "        Year of Birth      Count       Rank\n",
      "Gender                                     \n",
      "FEMALE    2013.569493  28.489750  52.716470\n",
      "MALE      2013.558043  37.474093  63.052537\n",
      "female    2011.000000  19.560000  28.640000\n"
     ]
    }
   ],
   "source": [
    "grouped = df.groupby('Gender')\n",
    "# Print the mean of each group\n",
    "print(grouped.mean())\n"
   ]
  },
  {
   "cell_type": "code",
   "execution_count": 38,
   "id": "f9c8c52b",
   "metadata": {
    "execution": {
     "iopub.execute_input": "2023-02-12T16:35:18.736700Z",
     "iopub.status.busy": "2023-02-12T16:35:18.735569Z",
     "iopub.status.idle": "2023-02-12T16:35:18.753234Z",
     "shell.execute_reply": "2023-02-12T16:35:18.751906Z"
    },
    "papermill": {
     "duration": 0.047724,
     "end_time": "2023-02-12T16:35:18.756211",
     "exception": false,
     "start_time": "2023-02-12T16:35:18.708487",
     "status": "completed"
    },
    "tags": []
   },
   "outputs": [
    {
     "name": "stdout",
     "output_type": "stream",
     "text": [
      "                                   Year of Birth  Count    Rank\n",
      "Gender Ethnicity                                               \n",
      "FEMALE ASIAN AND PACI                     344052   4072    5741\n",
      "       ASIAN AND PACIFIC ISLANDER        1564965  17055   24097\n",
      "       BLACK NON HISP                     319908   3693    5516\n",
      "       BLACK NON HISPANIC                1707706  19288   26878\n",
      "       HISPANIC                          3430969  52225  103488\n",
      "       WHITE NON HISP                     686092  10954   22414\n",
      "       WHITE NON HISPANIC                3536414  56700  115302\n",
      "MALE   ASIAN AND PACI                     329968   5113    7383\n",
      "       ASIAN AND PACIFIC ISLANDER        1681670  23467   35389\n",
      "       BLACK NON HISP                     340028   5109    7528\n",
      "       BLACK NON HISPANIC                1723760  25891   38857\n",
      "       HISPANIC                          3241744  70580  117006\n",
      "       WHITE NON HISP                     595552  12850   20932\n",
      "       WHITE NON HISPANIC                3240376  64559  122153\n",
      "female ASIAN AND PACIFIC ISLANDER         100550    978    1432\n"
     ]
    }
   ],
   "source": [
    "grouped = df.groupby(['Gender', 'Ethnicity'])\n",
    "\n",
    "# Print the sum of each group\n",
    "print(grouped.sum())"
   ]
  },
  {
   "cell_type": "code",
   "execution_count": 39,
   "id": "4d70e95b",
   "metadata": {
    "execution": {
     "iopub.execute_input": "2023-02-12T16:35:18.808482Z",
     "iopub.status.busy": "2023-02-12T16:35:18.807903Z",
     "iopub.status.idle": "2023-02-12T16:35:18.822409Z",
     "shell.execute_reply": "2023-02-12T16:35:18.821093Z"
    },
    "papermill": {
     "duration": 0.044957,
     "end_time": "2023-02-12T16:35:18.825181",
     "exception": false,
     "start_time": "2023-02-12T16:35:18.780224",
     "status": "completed"
    },
    "tags": []
   },
   "outputs": [
    {
     "name": "stdout",
     "output_type": "stream",
     "text": [
      "Empty DataFrame\n",
      "Columns: [Year of Birth, Count, Rank]\n",
      "Index: []\n"
     ]
    }
   ],
   "source": [
    "grouped = df.groupby({'Gender':'MALE'})\n",
    "\n",
    "# Print the sum of each group\n",
    "print(grouped.sum())"
   ]
  },
  {
   "cell_type": "markdown",
   "id": "8963aba3",
   "metadata": {
    "papermill": {
     "duration": 0.024112,
     "end_time": "2023-02-12T16:35:18.873719",
     "exception": false,
     "start_time": "2023-02-12T16:35:18.849607",
     "status": "completed"
    },
    "tags": []
   },
   "source": [
    "## 17. df.transpose()\n",
    "**df.transpose()** is a method in the Pandas library used to transpose the rows and columns of a DataFrame? This means that the rows become columns and the columns become rows.\n",
    "\n"
   ]
  },
  {
   "cell_type": "code",
   "execution_count": 40,
   "id": "cca97200",
   "metadata": {
    "execution": {
     "iopub.execute_input": "2023-02-12T16:35:18.925617Z",
     "iopub.status.busy": "2023-02-12T16:35:18.924130Z",
     "iopub.status.idle": "2023-02-12T16:35:19.378129Z",
     "shell.execute_reply": "2023-02-12T16:35:19.376721Z"
    },
    "papermill": {
     "duration": 0.48413,
     "end_time": "2023-02-12T16:35:19.382568",
     "exception": false,
     "start_time": "2023-02-12T16:35:18.898438",
     "status": "completed"
    },
    "scrolled": true,
    "tags": []
   },
   "outputs": [
    {
     "data": {
      "text/html": [
       "<div>\n",
       "<style scoped>\n",
       "    .dataframe tbody tr th:only-of-type {\n",
       "        vertical-align: middle;\n",
       "    }\n",
       "\n",
       "    .dataframe tbody tr th {\n",
       "        vertical-align: top;\n",
       "    }\n",
       "\n",
       "    .dataframe thead th {\n",
       "        text-align: right;\n",
       "    }\n",
       "</style>\n",
       "<table border=\"1\" class=\"dataframe\">\n",
       "  <thead>\n",
       "    <tr style=\"text-align: right;\">\n",
       "      <th></th>\n",
       "      <th>0</th>\n",
       "      <th>1</th>\n",
       "      <th>2</th>\n",
       "      <th>3</th>\n",
       "      <th>4</th>\n",
       "      <th>5</th>\n",
       "      <th>6</th>\n",
       "      <th>7</th>\n",
       "      <th>8</th>\n",
       "      <th>9</th>\n",
       "      <th>...</th>\n",
       "      <th>11335</th>\n",
       "      <th>11336</th>\n",
       "      <th>11337</th>\n",
       "      <th>11338</th>\n",
       "      <th>11339</th>\n",
       "      <th>11340</th>\n",
       "      <th>11341</th>\n",
       "      <th>11342</th>\n",
       "      <th>11343</th>\n",
       "      <th>11344</th>\n",
       "    </tr>\n",
       "  </thead>\n",
       "  <tbody>\n",
       "    <tr>\n",
       "      <th>Year of Birth</th>\n",
       "      <td>2011</td>\n",
       "      <td>2011</td>\n",
       "      <td>2011</td>\n",
       "      <td>2011</td>\n",
       "      <td>2011</td>\n",
       "      <td>2011</td>\n",
       "      <td>2011</td>\n",
       "      <td>2011</td>\n",
       "      <td>2011</td>\n",
       "      <td>2011</td>\n",
       "      <td>...</td>\n",
       "      <td>2016</td>\n",
       "      <td>2016</td>\n",
       "      <td>2016</td>\n",
       "      <td>2016</td>\n",
       "      <td>2016</td>\n",
       "      <td>2016</td>\n",
       "      <td>2016</td>\n",
       "      <td>2016</td>\n",
       "      <td>2016</td>\n",
       "      <td>2016</td>\n",
       "    </tr>\n",
       "    <tr>\n",
       "      <th>Gender</th>\n",
       "      <td>FEMALE</td>\n",
       "      <td>FEMALE</td>\n",
       "      <td>FEMALE</td>\n",
       "      <td>FEMALE</td>\n",
       "      <td>FEMALE</td>\n",
       "      <td>FEMALE</td>\n",
       "      <td>FEMALE</td>\n",
       "      <td>FEMALE</td>\n",
       "      <td>FEMALE</td>\n",
       "      <td>FEMALE</td>\n",
       "      <td>...</td>\n",
       "      <td>FEMALE</td>\n",
       "      <td>FEMALE</td>\n",
       "      <td>FEMALE</td>\n",
       "      <td>FEMALE</td>\n",
       "      <td>FEMALE</td>\n",
       "      <td>FEMALE</td>\n",
       "      <td>FEMALE</td>\n",
       "      <td>FEMALE</td>\n",
       "      <td>FEMALE</td>\n",
       "      <td>FEMALE</td>\n",
       "    </tr>\n",
       "    <tr>\n",
       "      <th>Ethnicity</th>\n",
       "      <td>ASIAN AND PACIFIC ISLANDER</td>\n",
       "      <td>ASIAN AND PACIFIC ISLANDER</td>\n",
       "      <td>ASIAN AND PACIFIC ISLANDER</td>\n",
       "      <td>ASIAN AND PACIFIC ISLANDER</td>\n",
       "      <td>ASIAN AND PACIFIC ISLANDER</td>\n",
       "      <td>ASIAN AND PACIFIC ISLANDER</td>\n",
       "      <td>ASIAN AND PACIFIC ISLANDER</td>\n",
       "      <td>ASIAN AND PACIFIC ISLANDER</td>\n",
       "      <td>ASIAN AND PACIFIC ISLANDER</td>\n",
       "      <td>ASIAN AND PACIFIC ISLANDER</td>\n",
       "      <td>...</td>\n",
       "      <td>BLACK NON HISPANIC</td>\n",
       "      <td>BLACK NON HISPANIC</td>\n",
       "      <td>BLACK NON HISPANIC</td>\n",
       "      <td>BLACK NON HISPANIC</td>\n",
       "      <td>BLACK NON HISPANIC</td>\n",
       "      <td>BLACK NON HISPANIC</td>\n",
       "      <td>BLACK NON HISPANIC</td>\n",
       "      <td>BLACK NON HISPANIC</td>\n",
       "      <td>BLACK NON HISPANIC</td>\n",
       "      <td>BLACK NON HISPANIC</td>\n",
       "    </tr>\n",
       "    <tr>\n",
       "      <th>Child's First Name</th>\n",
       "      <td>SOPHIA</td>\n",
       "      <td>CHLOE</td>\n",
       "      <td>EMILY</td>\n",
       "      <td>OLIVIA</td>\n",
       "      <td>EMMA</td>\n",
       "      <td>ISABELLA</td>\n",
       "      <td>TIFFANY</td>\n",
       "      <td>ASHLEY</td>\n",
       "      <td>FIONA</td>\n",
       "      <td>ANGELA</td>\n",
       "      <td>...</td>\n",
       "      <td>Mikayla</td>\n",
       "      <td>Mila</td>\n",
       "      <td>Milan</td>\n",
       "      <td>Sanaa</td>\n",
       "      <td>Sanai</td>\n",
       "      <td>Saniyah</td>\n",
       "      <td>Skye</td>\n",
       "      <td>Tiana</td>\n",
       "      <td>Violet</td>\n",
       "      <td>Zahra</td>\n",
       "    </tr>\n",
       "    <tr>\n",
       "      <th>Count</th>\n",
       "      <td>119</td>\n",
       "      <td>106</td>\n",
       "      <td>93</td>\n",
       "      <td>89</td>\n",
       "      <td>75</td>\n",
       "      <td>67</td>\n",
       "      <td>54</td>\n",
       "      <td>52</td>\n",
       "      <td>48</td>\n",
       "      <td>47</td>\n",
       "      <td>...</td>\n",
       "      <td>10</td>\n",
       "      <td>10</td>\n",
       "      <td>10</td>\n",
       "      <td>10</td>\n",
       "      <td>10</td>\n",
       "      <td>10</td>\n",
       "      <td>10</td>\n",
       "      <td>10</td>\n",
       "      <td>10</td>\n",
       "      <td>10</td>\n",
       "    </tr>\n",
       "  </tbody>\n",
       "</table>\n",
       "<p>5 rows × 11345 columns</p>\n",
       "</div>"
      ],
      "text/plain": [
       "                                         0                           1      \\\n",
       "Year of Birth                             2011                        2011   \n",
       "Gender                                  FEMALE                      FEMALE   \n",
       "Ethnicity           ASIAN AND PACIFIC ISLANDER  ASIAN AND PACIFIC ISLANDER   \n",
       "Child's First Name                      SOPHIA                       CHLOE   \n",
       "Count                                      119                         106   \n",
       "\n",
       "                                         2                           3      \\\n",
       "Year of Birth                             2011                        2011   \n",
       "Gender                                  FEMALE                      FEMALE   \n",
       "Ethnicity           ASIAN AND PACIFIC ISLANDER  ASIAN AND PACIFIC ISLANDER   \n",
       "Child's First Name                       EMILY                      OLIVIA   \n",
       "Count                                       93                          89   \n",
       "\n",
       "                                         4                           5      \\\n",
       "Year of Birth                             2011                        2011   \n",
       "Gender                                  FEMALE                      FEMALE   \n",
       "Ethnicity           ASIAN AND PACIFIC ISLANDER  ASIAN AND PACIFIC ISLANDER   \n",
       "Child's First Name                        EMMA                    ISABELLA   \n",
       "Count                                       75                          67   \n",
       "\n",
       "                                         6                           7      \\\n",
       "Year of Birth                             2011                        2011   \n",
       "Gender                                  FEMALE                      FEMALE   \n",
       "Ethnicity           ASIAN AND PACIFIC ISLANDER  ASIAN AND PACIFIC ISLANDER   \n",
       "Child's First Name                     TIFFANY                      ASHLEY   \n",
       "Count                                       54                          52   \n",
       "\n",
       "                                         8                           9      \\\n",
       "Year of Birth                             2011                        2011   \n",
       "Gender                                  FEMALE                      FEMALE   \n",
       "Ethnicity           ASIAN AND PACIFIC ISLANDER  ASIAN AND PACIFIC ISLANDER   \n",
       "Child's First Name                       FIONA                      ANGELA   \n",
       "Count                                       48                          47   \n",
       "\n",
       "                    ...               11335               11336  \\\n",
       "Year of Birth       ...                2016                2016   \n",
       "Gender              ...              FEMALE              FEMALE   \n",
       "Ethnicity           ...  BLACK NON HISPANIC  BLACK NON HISPANIC   \n",
       "Child's First Name  ...             Mikayla                Mila   \n",
       "Count               ...                  10                  10   \n",
       "\n",
       "                                 11337               11338  \\\n",
       "Year of Birth                     2016                2016   \n",
       "Gender                          FEMALE              FEMALE   \n",
       "Ethnicity           BLACK NON HISPANIC  BLACK NON HISPANIC   \n",
       "Child's First Name               Milan               Sanaa   \n",
       "Count                               10                  10   \n",
       "\n",
       "                                 11339               11340  \\\n",
       "Year of Birth                     2016                2016   \n",
       "Gender                          FEMALE              FEMALE   \n",
       "Ethnicity           BLACK NON HISPANIC  BLACK NON HISPANIC   \n",
       "Child's First Name               Sanai             Saniyah   \n",
       "Count                               10                  10   \n",
       "\n",
       "                                 11341               11342  \\\n",
       "Year of Birth                     2016                2016   \n",
       "Gender                          FEMALE              FEMALE   \n",
       "Ethnicity           BLACK NON HISPANIC  BLACK NON HISPANIC   \n",
       "Child's First Name                Skye               Tiana   \n",
       "Count                               10                  10   \n",
       "\n",
       "                                 11343               11344  \n",
       "Year of Birth                     2016                2016  \n",
       "Gender                          FEMALE              FEMALE  \n",
       "Ethnicity           BLACK NON HISPANIC  BLACK NON HISPANIC  \n",
       "Child's First Name              Violet               Zahra  \n",
       "Count                               10                  10  \n",
       "\n",
       "[5 rows x 11345 columns]"
      ]
     },
     "execution_count": 40,
     "metadata": {},
     "output_type": "execute_result"
    }
   ],
   "source": [
    "# Transpose the DataFrame\n",
    "df_transposed = df.transpose()\n",
    "\n",
    "# Print the transposed DataFrame\n",
    "df_transposed.head()"
   ]
  },
  {
   "cell_type": "markdown",
   "id": "c1b8f187",
   "metadata": {
    "papermill": {
     "duration": 0.026041,
     "end_time": "2023-02-12T16:35:19.433922",
     "exception": false,
     "start_time": "2023-02-12T16:35:19.407881",
     "status": "completed"
    },
    "tags": []
   },
   "source": [
    "It can also be done using T attributes on the dataframe. df.T will do the same as df.transpose()."
   ]
  },
  {
   "cell_type": "code",
   "execution_count": 41,
   "id": "4f31d844",
   "metadata": {
    "execution": {
     "iopub.execute_input": "2023-02-12T16:35:19.485589Z",
     "iopub.status.busy": "2023-02-12T16:35:19.485067Z",
     "iopub.status.idle": "2023-02-12T16:35:19.935150Z",
     "shell.execute_reply": "2023-02-12T16:35:19.933728Z"
    },
    "papermill": {
     "duration": 0.479204,
     "end_time": "2023-02-12T16:35:19.937930",
     "exception": false,
     "start_time": "2023-02-12T16:35:19.458726",
     "status": "completed"
    },
    "tags": []
   },
   "outputs": [
    {
     "data": {
      "text/html": [
       "<div>\n",
       "<style scoped>\n",
       "    .dataframe tbody tr th:only-of-type {\n",
       "        vertical-align: middle;\n",
       "    }\n",
       "\n",
       "    .dataframe tbody tr th {\n",
       "        vertical-align: top;\n",
       "    }\n",
       "\n",
       "    .dataframe thead th {\n",
       "        text-align: right;\n",
       "    }\n",
       "</style>\n",
       "<table border=\"1\" class=\"dataframe\">\n",
       "  <thead>\n",
       "    <tr style=\"text-align: right;\">\n",
       "      <th></th>\n",
       "      <th>0</th>\n",
       "      <th>1</th>\n",
       "      <th>2</th>\n",
       "      <th>3</th>\n",
       "      <th>4</th>\n",
       "      <th>5</th>\n",
       "      <th>6</th>\n",
       "      <th>7</th>\n",
       "      <th>8</th>\n",
       "      <th>9</th>\n",
       "      <th>...</th>\n",
       "      <th>11335</th>\n",
       "      <th>11336</th>\n",
       "      <th>11337</th>\n",
       "      <th>11338</th>\n",
       "      <th>11339</th>\n",
       "      <th>11340</th>\n",
       "      <th>11341</th>\n",
       "      <th>11342</th>\n",
       "      <th>11343</th>\n",
       "      <th>11344</th>\n",
       "    </tr>\n",
       "  </thead>\n",
       "  <tbody>\n",
       "    <tr>\n",
       "      <th>Year of Birth</th>\n",
       "      <td>2011</td>\n",
       "      <td>2011</td>\n",
       "      <td>2011</td>\n",
       "      <td>2011</td>\n",
       "      <td>2011</td>\n",
       "      <td>2011</td>\n",
       "      <td>2011</td>\n",
       "      <td>2011</td>\n",
       "      <td>2011</td>\n",
       "      <td>2011</td>\n",
       "      <td>...</td>\n",
       "      <td>2016</td>\n",
       "      <td>2016</td>\n",
       "      <td>2016</td>\n",
       "      <td>2016</td>\n",
       "      <td>2016</td>\n",
       "      <td>2016</td>\n",
       "      <td>2016</td>\n",
       "      <td>2016</td>\n",
       "      <td>2016</td>\n",
       "      <td>2016</td>\n",
       "    </tr>\n",
       "    <tr>\n",
       "      <th>Gender</th>\n",
       "      <td>FEMALE</td>\n",
       "      <td>FEMALE</td>\n",
       "      <td>FEMALE</td>\n",
       "      <td>FEMALE</td>\n",
       "      <td>FEMALE</td>\n",
       "      <td>FEMALE</td>\n",
       "      <td>FEMALE</td>\n",
       "      <td>FEMALE</td>\n",
       "      <td>FEMALE</td>\n",
       "      <td>FEMALE</td>\n",
       "      <td>...</td>\n",
       "      <td>FEMALE</td>\n",
       "      <td>FEMALE</td>\n",
       "      <td>FEMALE</td>\n",
       "      <td>FEMALE</td>\n",
       "      <td>FEMALE</td>\n",
       "      <td>FEMALE</td>\n",
       "      <td>FEMALE</td>\n",
       "      <td>FEMALE</td>\n",
       "      <td>FEMALE</td>\n",
       "      <td>FEMALE</td>\n",
       "    </tr>\n",
       "    <tr>\n",
       "      <th>Ethnicity</th>\n",
       "      <td>ASIAN AND PACIFIC ISLANDER</td>\n",
       "      <td>ASIAN AND PACIFIC ISLANDER</td>\n",
       "      <td>ASIAN AND PACIFIC ISLANDER</td>\n",
       "      <td>ASIAN AND PACIFIC ISLANDER</td>\n",
       "      <td>ASIAN AND PACIFIC ISLANDER</td>\n",
       "      <td>ASIAN AND PACIFIC ISLANDER</td>\n",
       "      <td>ASIAN AND PACIFIC ISLANDER</td>\n",
       "      <td>ASIAN AND PACIFIC ISLANDER</td>\n",
       "      <td>ASIAN AND PACIFIC ISLANDER</td>\n",
       "      <td>ASIAN AND PACIFIC ISLANDER</td>\n",
       "      <td>...</td>\n",
       "      <td>BLACK NON HISPANIC</td>\n",
       "      <td>BLACK NON HISPANIC</td>\n",
       "      <td>BLACK NON HISPANIC</td>\n",
       "      <td>BLACK NON HISPANIC</td>\n",
       "      <td>BLACK NON HISPANIC</td>\n",
       "      <td>BLACK NON HISPANIC</td>\n",
       "      <td>BLACK NON HISPANIC</td>\n",
       "      <td>BLACK NON HISPANIC</td>\n",
       "      <td>BLACK NON HISPANIC</td>\n",
       "      <td>BLACK NON HISPANIC</td>\n",
       "    </tr>\n",
       "    <tr>\n",
       "      <th>Child's First Name</th>\n",
       "      <td>SOPHIA</td>\n",
       "      <td>CHLOE</td>\n",
       "      <td>EMILY</td>\n",
       "      <td>OLIVIA</td>\n",
       "      <td>EMMA</td>\n",
       "      <td>ISABELLA</td>\n",
       "      <td>TIFFANY</td>\n",
       "      <td>ASHLEY</td>\n",
       "      <td>FIONA</td>\n",
       "      <td>ANGELA</td>\n",
       "      <td>...</td>\n",
       "      <td>Mikayla</td>\n",
       "      <td>Mila</td>\n",
       "      <td>Milan</td>\n",
       "      <td>Sanaa</td>\n",
       "      <td>Sanai</td>\n",
       "      <td>Saniyah</td>\n",
       "      <td>Skye</td>\n",
       "      <td>Tiana</td>\n",
       "      <td>Violet</td>\n",
       "      <td>Zahra</td>\n",
       "    </tr>\n",
       "    <tr>\n",
       "      <th>Count</th>\n",
       "      <td>119</td>\n",
       "      <td>106</td>\n",
       "      <td>93</td>\n",
       "      <td>89</td>\n",
       "      <td>75</td>\n",
       "      <td>67</td>\n",
       "      <td>54</td>\n",
       "      <td>52</td>\n",
       "      <td>48</td>\n",
       "      <td>47</td>\n",
       "      <td>...</td>\n",
       "      <td>10</td>\n",
       "      <td>10</td>\n",
       "      <td>10</td>\n",
       "      <td>10</td>\n",
       "      <td>10</td>\n",
       "      <td>10</td>\n",
       "      <td>10</td>\n",
       "      <td>10</td>\n",
       "      <td>10</td>\n",
       "      <td>10</td>\n",
       "    </tr>\n",
       "  </tbody>\n",
       "</table>\n",
       "<p>5 rows × 11345 columns</p>\n",
       "</div>"
      ],
      "text/plain": [
       "                                         0                           1      \\\n",
       "Year of Birth                             2011                        2011   \n",
       "Gender                                  FEMALE                      FEMALE   \n",
       "Ethnicity           ASIAN AND PACIFIC ISLANDER  ASIAN AND PACIFIC ISLANDER   \n",
       "Child's First Name                      SOPHIA                       CHLOE   \n",
       "Count                                      119                         106   \n",
       "\n",
       "                                         2                           3      \\\n",
       "Year of Birth                             2011                        2011   \n",
       "Gender                                  FEMALE                      FEMALE   \n",
       "Ethnicity           ASIAN AND PACIFIC ISLANDER  ASIAN AND PACIFIC ISLANDER   \n",
       "Child's First Name                       EMILY                      OLIVIA   \n",
       "Count                                       93                          89   \n",
       "\n",
       "                                         4                           5      \\\n",
       "Year of Birth                             2011                        2011   \n",
       "Gender                                  FEMALE                      FEMALE   \n",
       "Ethnicity           ASIAN AND PACIFIC ISLANDER  ASIAN AND PACIFIC ISLANDER   \n",
       "Child's First Name                        EMMA                    ISABELLA   \n",
       "Count                                       75                          67   \n",
       "\n",
       "                                         6                           7      \\\n",
       "Year of Birth                             2011                        2011   \n",
       "Gender                                  FEMALE                      FEMALE   \n",
       "Ethnicity           ASIAN AND PACIFIC ISLANDER  ASIAN AND PACIFIC ISLANDER   \n",
       "Child's First Name                     TIFFANY                      ASHLEY   \n",
       "Count                                       54                          52   \n",
       "\n",
       "                                         8                           9      \\\n",
       "Year of Birth                             2011                        2011   \n",
       "Gender                                  FEMALE                      FEMALE   \n",
       "Ethnicity           ASIAN AND PACIFIC ISLANDER  ASIAN AND PACIFIC ISLANDER   \n",
       "Child's First Name                       FIONA                      ANGELA   \n",
       "Count                                       48                          47   \n",
       "\n",
       "                    ...               11335               11336  \\\n",
       "Year of Birth       ...                2016                2016   \n",
       "Gender              ...              FEMALE              FEMALE   \n",
       "Ethnicity           ...  BLACK NON HISPANIC  BLACK NON HISPANIC   \n",
       "Child's First Name  ...             Mikayla                Mila   \n",
       "Count               ...                  10                  10   \n",
       "\n",
       "                                 11337               11338  \\\n",
       "Year of Birth                     2016                2016   \n",
       "Gender                          FEMALE              FEMALE   \n",
       "Ethnicity           BLACK NON HISPANIC  BLACK NON HISPANIC   \n",
       "Child's First Name               Milan               Sanaa   \n",
       "Count                               10                  10   \n",
       "\n",
       "                                 11339               11340  \\\n",
       "Year of Birth                     2016                2016   \n",
       "Gender                          FEMALE              FEMALE   \n",
       "Ethnicity           BLACK NON HISPANIC  BLACK NON HISPANIC   \n",
       "Child's First Name               Sanai             Saniyah   \n",
       "Count                               10                  10   \n",
       "\n",
       "                                 11341               11342  \\\n",
       "Year of Birth                     2016                2016   \n",
       "Gender                          FEMALE              FEMALE   \n",
       "Ethnicity           BLACK NON HISPANIC  BLACK NON HISPANIC   \n",
       "Child's First Name                Skye               Tiana   \n",
       "Count                               10                  10   \n",
       "\n",
       "                                 11343               11344  \n",
       "Year of Birth                     2016                2016  \n",
       "Gender                          FEMALE              FEMALE  \n",
       "Ethnicity           BLACK NON HISPANIC  BLACK NON HISPANIC  \n",
       "Child's First Name              Violet               Zahra  \n",
       "Count                               10                  10  \n",
       "\n",
       "[5 rows x 11345 columns]"
      ]
     },
     "execution_count": 41,
     "metadata": {},
     "output_type": "execute_result"
    }
   ],
   "source": [
    "df_transposed = df.T\n",
    "df_transposed.head()"
   ]
  },
  {
   "cell_type": "markdown",
   "id": "1a6b1c82",
   "metadata": {
    "papermill": {
     "duration": 0.024484,
     "end_time": "2023-02-12T16:35:19.987711",
     "exception": false,
     "start_time": "2023-02-12T16:35:19.963227",
     "status": "completed"
    },
    "tags": []
   },
   "source": [
    "## 18. df.merge()\n",
    "\n",
    "**df.merge()** is a pandas function that allows you to combine two DataFrames based on one or more common columns. It is similar to SQL JOINs. The function returns a new DataFrame that contains only the rows where the values in the specified columns match between the two DataFrames.\n",
    "\n",
    "Here is an example of how to use df.merge() to combine two DataFrames based on a common column:\n",
    "\n"
   ]
  },
  {
   "cell_type": "code",
   "execution_count": 42,
   "id": "2ab7aa52",
   "metadata": {
    "execution": {
     "iopub.execute_input": "2023-02-12T16:35:20.039495Z",
     "iopub.status.busy": "2023-02-12T16:35:20.038940Z",
     "iopub.status.idle": "2023-02-12T16:35:20.059553Z",
     "shell.execute_reply": "2023-02-12T16:35:20.058039Z"
    },
    "papermill": {
     "duration": 0.049712,
     "end_time": "2023-02-12T16:35:20.062326",
     "exception": false,
     "start_time": "2023-02-12T16:35:20.012614",
     "status": "completed"
    },
    "tags": []
   },
   "outputs": [
    {
     "name": "stdout",
     "output_type": "stream",
     "text": [
      "  key  value_x  value_y\n",
      "0   B        2        5\n",
      "1   D        4        6\n"
     ]
    }
   ],
   "source": [
    "# Create the first DataFrame\n",
    "df1 = pd.DataFrame({'key': ['A', 'B', 'C', 'D'],\n",
    "                   'value': [1, 2, 3, 4]})\n",
    "\n",
    "# Create the second DataFrame\n",
    "df2 = pd.DataFrame({'key': ['B', 'D', 'E', 'F'],\n",
    "                   'value': [5, 6, 7, 8]})\n",
    "\n",
    "# Merge the two DataFrames on the 'key' column\n",
    "merged_df = df1.merge(df2, on='key')\n",
    "\n",
    "# Print the merged DataFrame\n",
    "print(merged_df)"
   ]
  },
  {
   "cell_type": "markdown",
   "id": "ff561b09",
   "metadata": {
    "papermill": {
     "duration": 0.02462,
     "end_time": "2023-02-12T16:35:20.112563",
     "exception": false,
     "start_time": "2023-02-12T16:35:20.087943",
     "status": "completed"
    },
    "tags": []
   },
   "source": [
    "## 19. df.rename()\n",
    "**df.rename()** is a pandas function that allows you to change the name of one or more columns or rows in a DataFrame. You can use the columns parameter to change the column names, and the index parameter to change the row names.\n",
    "\n"
   ]
  },
  {
   "cell_type": "code",
   "execution_count": 43,
   "id": "1c3fd080",
   "metadata": {
    "execution": {
     "iopub.execute_input": "2023-02-12T16:35:20.167323Z",
     "iopub.status.busy": "2023-02-12T16:35:20.166082Z",
     "iopub.status.idle": "2023-02-12T16:35:20.181010Z",
     "shell.execute_reply": "2023-02-12T16:35:20.180097Z"
    },
    "papermill": {
     "duration": 0.04477,
     "end_time": "2023-02-12T16:35:20.183436",
     "exception": false,
     "start_time": "2023-02-12T16:35:20.138666",
     "status": "completed"
    },
    "tags": []
   },
   "outputs": [
    {
     "data": {
      "text/html": [
       "<div>\n",
       "<style scoped>\n",
       "    .dataframe tbody tr th:only-of-type {\n",
       "        vertical-align: middle;\n",
       "    }\n",
       "\n",
       "    .dataframe tbody tr th {\n",
       "        vertical-align: top;\n",
       "    }\n",
       "\n",
       "    .dataframe thead th {\n",
       "        text-align: right;\n",
       "    }\n",
       "</style>\n",
       "<table border=\"1\" class=\"dataframe\">\n",
       "  <thead>\n",
       "    <tr style=\"text-align: right;\">\n",
       "      <th></th>\n",
       "      <th>Year of Birth</th>\n",
       "      <th>Gender</th>\n",
       "      <th>Ethnicity</th>\n",
       "      <th>Child's First Name</th>\n",
       "      <th>count</th>\n",
       "      <th>Rank</th>\n",
       "    </tr>\n",
       "  </thead>\n",
       "  <tbody>\n",
       "    <tr>\n",
       "      <th>0</th>\n",
       "      <td>2011</td>\n",
       "      <td>FEMALE</td>\n",
       "      <td>ASIAN AND PACIFIC ISLANDER</td>\n",
       "      <td>SOPHIA</td>\n",
       "      <td>119</td>\n",
       "      <td>1</td>\n",
       "    </tr>\n",
       "    <tr>\n",
       "      <th>1</th>\n",
       "      <td>2011</td>\n",
       "      <td>FEMALE</td>\n",
       "      <td>ASIAN AND PACIFIC ISLANDER</td>\n",
       "      <td>CHLOE</td>\n",
       "      <td>106</td>\n",
       "      <td>2</td>\n",
       "    </tr>\n",
       "    <tr>\n",
       "      <th>2</th>\n",
       "      <td>2011</td>\n",
       "      <td>FEMALE</td>\n",
       "      <td>ASIAN AND PACIFIC ISLANDER</td>\n",
       "      <td>EMILY</td>\n",
       "      <td>93</td>\n",
       "      <td>3</td>\n",
       "    </tr>\n",
       "    <tr>\n",
       "      <th>3</th>\n",
       "      <td>2011</td>\n",
       "      <td>FEMALE</td>\n",
       "      <td>ASIAN AND PACIFIC ISLANDER</td>\n",
       "      <td>OLIVIA</td>\n",
       "      <td>89</td>\n",
       "      <td>4</td>\n",
       "    </tr>\n",
       "    <tr>\n",
       "      <th>4</th>\n",
       "      <td>2011</td>\n",
       "      <td>FEMALE</td>\n",
       "      <td>ASIAN AND PACIFIC ISLANDER</td>\n",
       "      <td>EMMA</td>\n",
       "      <td>75</td>\n",
       "      <td>5</td>\n",
       "    </tr>\n",
       "  </tbody>\n",
       "</table>\n",
       "</div>"
      ],
      "text/plain": [
       "   Year of Birth  Gender                   Ethnicity Child's First Name  \\\n",
       "0           2011  FEMALE  ASIAN AND PACIFIC ISLANDER             SOPHIA   \n",
       "1           2011  FEMALE  ASIAN AND PACIFIC ISLANDER              CHLOE   \n",
       "2           2011  FEMALE  ASIAN AND PACIFIC ISLANDER              EMILY   \n",
       "3           2011  FEMALE  ASIAN AND PACIFIC ISLANDER             OLIVIA   \n",
       "4           2011  FEMALE  ASIAN AND PACIFIC ISLANDER               EMMA   \n",
       "\n",
       "   count  Rank  \n",
       "0    119     1  \n",
       "1    106     2  \n",
       "2     93     3  \n",
       "3     89     4  \n",
       "4     75     5  "
      ]
     },
     "execution_count": 43,
     "metadata": {},
     "output_type": "execute_result"
    }
   ],
   "source": [
    "# Rename column 'Count' to 'count'\n",
    "df_rename = df.rename(columns={'Count': 'count'})\n",
    "df_rename.head()"
   ]
  },
  {
   "cell_type": "markdown",
   "id": "ef38a0a7",
   "metadata": {
    "papermill": {
     "duration": 0.024799,
     "end_time": "2023-02-12T16:35:20.233744",
     "exception": false,
     "start_time": "2023-02-12T16:35:20.208945",
     "status": "completed"
    },
    "tags": []
   },
   "source": [
    "You can also use a dictionary to rename multiple columns at once:"
   ]
  },
  {
   "cell_type": "code",
   "execution_count": 44,
   "id": "84d1fae8",
   "metadata": {
    "execution": {
     "iopub.execute_input": "2023-02-12T16:35:20.286757Z",
     "iopub.status.busy": "2023-02-12T16:35:20.285919Z",
     "iopub.status.idle": "2023-02-12T16:35:20.301200Z",
     "shell.execute_reply": "2023-02-12T16:35:20.299942Z"
    },
    "papermill": {
     "duration": 0.044931,
     "end_time": "2023-02-12T16:35:20.303831",
     "exception": false,
     "start_time": "2023-02-12T16:35:20.258900",
     "status": "completed"
    },
    "tags": []
   },
   "outputs": [
    {
     "data": {
      "text/html": [
       "<div>\n",
       "<style scoped>\n",
       "    .dataframe tbody tr th:only-of-type {\n",
       "        vertical-align: middle;\n",
       "    }\n",
       "\n",
       "    .dataframe tbody tr th {\n",
       "        vertical-align: top;\n",
       "    }\n",
       "\n",
       "    .dataframe thead th {\n",
       "        text-align: right;\n",
       "    }\n",
       "</style>\n",
       "<table border=\"1\" class=\"dataframe\">\n",
       "  <thead>\n",
       "    <tr style=\"text-align: right;\">\n",
       "      <th></th>\n",
       "      <th>Year of Birth</th>\n",
       "      <th>Gender</th>\n",
       "      <th>Ethnicity</th>\n",
       "      <th>Child's First Name</th>\n",
       "      <th>count</th>\n",
       "      <th>rank</th>\n",
       "    </tr>\n",
       "  </thead>\n",
       "  <tbody>\n",
       "    <tr>\n",
       "      <th>0</th>\n",
       "      <td>2011</td>\n",
       "      <td>FEMALE</td>\n",
       "      <td>ASIAN AND PACIFIC ISLANDER</td>\n",
       "      <td>SOPHIA</td>\n",
       "      <td>119</td>\n",
       "      <td>1</td>\n",
       "    </tr>\n",
       "    <tr>\n",
       "      <th>1</th>\n",
       "      <td>2011</td>\n",
       "      <td>FEMALE</td>\n",
       "      <td>ASIAN AND PACIFIC ISLANDER</td>\n",
       "      <td>CHLOE</td>\n",
       "      <td>106</td>\n",
       "      <td>2</td>\n",
       "    </tr>\n",
       "    <tr>\n",
       "      <th>2</th>\n",
       "      <td>2011</td>\n",
       "      <td>FEMALE</td>\n",
       "      <td>ASIAN AND PACIFIC ISLANDER</td>\n",
       "      <td>EMILY</td>\n",
       "      <td>93</td>\n",
       "      <td>3</td>\n",
       "    </tr>\n",
       "    <tr>\n",
       "      <th>3</th>\n",
       "      <td>2011</td>\n",
       "      <td>FEMALE</td>\n",
       "      <td>ASIAN AND PACIFIC ISLANDER</td>\n",
       "      <td>OLIVIA</td>\n",
       "      <td>89</td>\n",
       "      <td>4</td>\n",
       "    </tr>\n",
       "    <tr>\n",
       "      <th>4</th>\n",
       "      <td>2011</td>\n",
       "      <td>FEMALE</td>\n",
       "      <td>ASIAN AND PACIFIC ISLANDER</td>\n",
       "      <td>EMMA</td>\n",
       "      <td>75</td>\n",
       "      <td>5</td>\n",
       "    </tr>\n",
       "  </tbody>\n",
       "</table>\n",
       "</div>"
      ],
      "text/plain": [
       "   Year of Birth  Gender                   Ethnicity Child's First Name  \\\n",
       "0           2011  FEMALE  ASIAN AND PACIFIC ISLANDER             SOPHIA   \n",
       "1           2011  FEMALE  ASIAN AND PACIFIC ISLANDER              CHLOE   \n",
       "2           2011  FEMALE  ASIAN AND PACIFIC ISLANDER              EMILY   \n",
       "3           2011  FEMALE  ASIAN AND PACIFIC ISLANDER             OLIVIA   \n",
       "4           2011  FEMALE  ASIAN AND PACIFIC ISLANDER               EMMA   \n",
       "\n",
       "   count  rank  \n",
       "0    119     1  \n",
       "1    106     2  \n",
       "2     93     3  \n",
       "3     89     4  \n",
       "4     75     5  "
      ]
     },
     "execution_count": 44,
     "metadata": {},
     "output_type": "execute_result"
    }
   ],
   "source": [
    "df_rename = df.rename(columns={'Count': 'count', 'Rank':'rank'})\n",
    "df_rename.head()"
   ]
  },
  {
   "cell_type": "markdown",
   "id": "d8a2bdd8",
   "metadata": {
    "papermill": {
     "duration": 0.024799,
     "end_time": "2023-02-12T16:35:20.354133",
     "exception": false,
     "start_time": "2023-02-12T16:35:20.329334",
     "status": "completed"
    },
    "tags": []
   },
   "source": [
    "You can also rename the index similarly:"
   ]
  },
  {
   "cell_type": "code",
   "execution_count": 45,
   "id": "0a0305b0",
   "metadata": {
    "execution": {
     "iopub.execute_input": "2023-02-12T16:35:20.409532Z",
     "iopub.status.busy": "2023-02-12T16:35:20.408597Z",
     "iopub.status.idle": "2023-02-12T16:35:20.428456Z",
     "shell.execute_reply": "2023-02-12T16:35:20.427066Z"
    },
    "papermill": {
     "duration": 0.050174,
     "end_time": "2023-02-12T16:35:20.430981",
     "exception": false,
     "start_time": "2023-02-12T16:35:20.380807",
     "status": "completed"
    },
    "tags": []
   },
   "outputs": [
    {
     "data": {
      "text/html": [
       "<div>\n",
       "<style scoped>\n",
       "    .dataframe tbody tr th:only-of-type {\n",
       "        vertical-align: middle;\n",
       "    }\n",
       "\n",
       "    .dataframe tbody tr th {\n",
       "        vertical-align: top;\n",
       "    }\n",
       "\n",
       "    .dataframe thead th {\n",
       "        text-align: right;\n",
       "    }\n",
       "</style>\n",
       "<table border=\"1\" class=\"dataframe\">\n",
       "  <thead>\n",
       "    <tr style=\"text-align: right;\">\n",
       "      <th></th>\n",
       "      <th>Year of Birth</th>\n",
       "      <th>Gender</th>\n",
       "      <th>Ethnicity</th>\n",
       "      <th>Child's First Name</th>\n",
       "      <th>Count</th>\n",
       "      <th>Rank</th>\n",
       "    </tr>\n",
       "  </thead>\n",
       "  <tbody>\n",
       "    <tr>\n",
       "      <th>first</th>\n",
       "      <td>2011</td>\n",
       "      <td>FEMALE</td>\n",
       "      <td>ASIAN AND PACIFIC ISLANDER</td>\n",
       "      <td>SOPHIA</td>\n",
       "      <td>119</td>\n",
       "      <td>1</td>\n",
       "    </tr>\n",
       "    <tr>\n",
       "      <th>second</th>\n",
       "      <td>2011</td>\n",
       "      <td>FEMALE</td>\n",
       "      <td>ASIAN AND PACIFIC ISLANDER</td>\n",
       "      <td>CHLOE</td>\n",
       "      <td>106</td>\n",
       "      <td>2</td>\n",
       "    </tr>\n",
       "    <tr>\n",
       "      <th>third</th>\n",
       "      <td>2011</td>\n",
       "      <td>FEMALE</td>\n",
       "      <td>ASIAN AND PACIFIC ISLANDER</td>\n",
       "      <td>EMILY</td>\n",
       "      <td>93</td>\n",
       "      <td>3</td>\n",
       "    </tr>\n",
       "    <tr>\n",
       "      <th>3</th>\n",
       "      <td>2011</td>\n",
       "      <td>FEMALE</td>\n",
       "      <td>ASIAN AND PACIFIC ISLANDER</td>\n",
       "      <td>OLIVIA</td>\n",
       "      <td>89</td>\n",
       "      <td>4</td>\n",
       "    </tr>\n",
       "    <tr>\n",
       "      <th>4</th>\n",
       "      <td>2011</td>\n",
       "      <td>FEMALE</td>\n",
       "      <td>ASIAN AND PACIFIC ISLANDER</td>\n",
       "      <td>EMMA</td>\n",
       "      <td>75</td>\n",
       "      <td>5</td>\n",
       "    </tr>\n",
       "  </tbody>\n",
       "</table>\n",
       "</div>"
      ],
      "text/plain": [
       "        Year of Birth  Gender                   Ethnicity Child's First Name  \\\n",
       "first            2011  FEMALE  ASIAN AND PACIFIC ISLANDER             SOPHIA   \n",
       "second           2011  FEMALE  ASIAN AND PACIFIC ISLANDER              CHLOE   \n",
       "third            2011  FEMALE  ASIAN AND PACIFIC ISLANDER              EMILY   \n",
       "3                2011  FEMALE  ASIAN AND PACIFIC ISLANDER             OLIVIA   \n",
       "4                2011  FEMALE  ASIAN AND PACIFIC ISLANDER               EMMA   \n",
       "\n",
       "        Count  Rank  \n",
       "first     119     1  \n",
       "second    106     2  \n",
       "third      93     3  \n",
       "3          89     4  \n",
       "4          75     5  "
      ]
     },
     "execution_count": 45,
     "metadata": {},
     "output_type": "execute_result"
    }
   ],
   "source": [
    "df_rename = df.rename(index={0:'first',1:'second',2:'third'})\n",
    "df_rename.head()"
   ]
  },
  {
   "cell_type": "markdown",
   "id": "192ad817",
   "metadata": {
    "papermill": {
     "duration": 0.024947,
     "end_time": "2023-02-12T16:35:20.481987",
     "exception": false,
     "start_time": "2023-02-12T16:35:20.457040",
     "status": "completed"
    },
    "tags": []
   },
   "source": [
    "## 20. df.to_csv()\n",
    "**df.to_csv()** is a method used in the Pandas library to export a DataFrame to a CSV file. CSV stands for \"Comma Separated Values\" and it is a popular file format for storing data in a tabular form.\n",
    "\n",
    "For example, let’s say we want to save df that you want to export to a CSV file. You can export the DataFrame to a CSV file by calling df.to_csv() and passing the file name as a string:"
   ]
  },
  {
   "cell_type": "code",
   "execution_count": 46,
   "id": "ca1053a7",
   "metadata": {
    "execution": {
     "iopub.execute_input": "2023-02-12T16:35:20.536429Z",
     "iopub.status.busy": "2023-02-12T16:35:20.535000Z",
     "iopub.status.idle": "2023-02-12T16:35:20.572981Z",
     "shell.execute_reply": "2023-02-12T16:35:20.571625Z"
    },
    "papermill": {
     "duration": 0.069183,
     "end_time": "2023-02-12T16:35:20.576381",
     "exception": false,
     "start_time": "2023-02-12T16:35:20.507198",
     "status": "completed"
    },
    "tags": []
   },
   "outputs": [],
   "source": [
    "df.to_csv('data.csv')"
   ]
  },
  {
   "cell_type": "markdown",
   "id": "05e45426",
   "metadata": {
    "papermill": {
     "duration": 0.025314,
     "end_time": "2023-02-12T16:35:20.627789",
     "exception": false,
     "start_time": "2023-02-12T16:35:20.602475",
     "status": "completed"
    },
    "tags": []
   },
   "source": [
    "You can also specify the separator used in the CSV file by passing the sep parameter. By default, it’s set to “,”."
   ]
  },
  {
   "cell_type": "code",
   "execution_count": 47,
   "id": "d71bd56e",
   "metadata": {
    "execution": {
     "iopub.execute_input": "2023-02-12T16:35:20.681914Z",
     "iopub.status.busy": "2023-02-12T16:35:20.680844Z",
     "iopub.status.idle": "2023-02-12T16:35:20.686968Z",
     "shell.execute_reply": "2023-02-12T16:35:20.685816Z"
    },
    "papermill": {
     "duration": 0.036253,
     "end_time": "2023-02-12T16:35:20.689554",
     "exception": false,
     "start_time": "2023-02-12T16:35:20.653301",
     "status": "completed"
    },
    "tags": []
   },
   "outputs": [],
   "source": [
    "#df.to_csv('path/to/data.csv', sep='\\t')"
   ]
  },
  {
   "cell_type": "markdown",
   "id": "ed6dd000",
   "metadata": {
    "papermill": {
     "duration": 0.025495,
     "end_time": "2023-02-12T16:35:20.741936",
     "exception": false,
     "start_time": "2023-02-12T16:35:20.716441",
     "status": "completed"
    },
    "tags": []
   },
   "source": [
    "It is also possible to only save specific columns of the DataFrame by passing the list of column names to the columns parameter, and also to save only specific rows by passing a boolean mask to the index parameter."
   ]
  },
  {
   "cell_type": "code",
   "execution_count": 48,
   "id": "6d9204a8",
   "metadata": {
    "execution": {
     "iopub.execute_input": "2023-02-12T16:35:20.798198Z",
     "iopub.status.busy": "2023-02-12T16:35:20.797688Z",
     "iopub.status.idle": "2023-02-12T16:35:20.802154Z",
     "shell.execute_reply": "2023-02-12T16:35:20.801108Z"
    },
    "papermill": {
     "duration": 0.035762,
     "end_time": "2023-02-12T16:35:20.804575",
     "exception": false,
     "start_time": "2023-02-12T16:35:20.768813",
     "status": "completed"
    },
    "tags": []
   },
   "outputs": [],
   "source": [
    "#df.to_csv('path/to/data.csv', columns=['Rank','Count'])"
   ]
  },
  {
   "cell_type": "markdown",
   "id": "bd1341dc",
   "metadata": {
    "papermill": {
     "duration": 0.025306,
     "end_time": "2023-02-12T16:35:20.855801",
     "exception": false,
     "start_time": "2023-02-12T16:35:20.830495",
     "status": "completed"
    },
    "tags": []
   },
   "source": [
    "You can also use the index parameter to specify whether to include or exclude the index of the dataframe in the exported CSV file."
   ]
  },
  {
   "cell_type": "markdown",
   "id": "b2453159",
   "metadata": {
    "papermill": {
     "duration": 0.025354,
     "end_time": "2023-02-12T16:35:20.906802",
     "exception": false,
     "start_time": "2023-02-12T16:35:20.881448",
     "status": "completed"
    },
    "tags": []
   },
   "source": [
    "This will exclude the index of the dataframe in the exported CSV file.\n",
    "\n",
    "You can also use na_rep parameter to replace missing values in the exported CSV file with a specific value."
   ]
  },
  {
   "cell_type": "code",
   "execution_count": 49,
   "id": "a8b849b5",
   "metadata": {
    "execution": {
     "iopub.execute_input": "2023-02-12T16:35:20.961476Z",
     "iopub.status.busy": "2023-02-12T16:35:20.960518Z",
     "iopub.status.idle": "2023-02-12T16:35:20.966658Z",
     "shell.execute_reply": "2023-02-12T16:35:20.965135Z"
    },
    "papermill": {
     "duration": 0.037578,
     "end_time": "2023-02-12T16:35:20.970240",
     "exception": false,
     "start_time": "2023-02-12T16:35:20.932662",
     "status": "completed"
    },
    "tags": []
   },
   "outputs": [],
   "source": [
    "#df.to_csv('path/to/data.csv', na_rep='NULL')"
   ]
  },
  {
   "attachments": {},
   "cell_type": "markdown",
   "id": "904d45ac",
   "metadata": {
    "papermill": {
     "duration": 0.025356,
     "end_time": "2023-02-12T16:35:21.021777",
     "exception": false,
     "start_time": "2023-02-12T16:35:20.996421",
     "status": "completed"
    },
    "tags": []
   },
   "source": [
    "# In summary \n",
    "here are the 20 pandas functions that can be used to accomplish most of your data tasks:\n",
    "\n",
    "* pd.read_csv()\n",
    "* df.describe()\n",
    "* df.info()\n",
    "* df.plot()\n",
    "* df.iloc()\n",
    "* df.loc()\n",
    "* df.assign()\n",
    "* df.query()\n",
    "* df.sort_values()\n",
    "* df.sample()\n",
    "* df.isnull()\n",
    "* df.fillna()\n",
    "* df.dropna()\n",
    "* df.drop()\n",
    "* pd.pivot_table()\n",
    "* df.groupby()\n",
    "* df.transpose()\n",
    "* df.merge()\n",
    "* df.rename()\n",
    "* df.to_csv()"
   ]
  }
 ],
 "metadata": {
  "kernelspec": {
   "display_name": "Python 3",
   "language": "python",
   "name": "python3"
  },
  "language_info": {
   "codemirror_mode": {
    "name": "ipython",
    "version": 3
   },
   "file_extension": ".py",
   "mimetype": "text/x-python",
   "name": "python",
   "nbconvert_exporter": "python",
   "pygments_lexer": "ipython3",
   "version": "3.7.12"
  },
  "papermill": {
   "default_parameters": {},
   "duration": 17.224791,
   "end_time": "2023-02-12T16:35:22.073905",
   "environment_variables": {},
   "exception": null,
   "input_path": "__notebook__.ipynb",
   "output_path": "__notebook__.ipynb",
   "parameters": {},
   "start_time": "2023-02-12T16:35:04.849114",
   "version": "2.3.4"
  }
 },
 "nbformat": 4,
 "nbformat_minor": 5
}
