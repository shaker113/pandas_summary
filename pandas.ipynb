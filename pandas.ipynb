{
 "cells": [
  {
   "attachments": {},
   "cell_type": "markdown",
   "metadata": {},
   "source": [
    "# this file for studying pandas"
   ]
  },
  {
   "attachments": {},
   "cell_type": "markdown",
   "metadata": {},
   "source": [
    "## importing the needed libraries for data sceince"
   ]
  },
  {
   "cell_type": "code",
   "execution_count": 110,
   "metadata": {},
   "outputs": [],
   "source": [
    "import numpy as np\n",
    "import pandas as pd"
   ]
  },
  {
   "attachments": {},
   "cell_type": "markdown",
   "metadata": {},
   "source": [
    "**do not forget that The Pandas library is built on NumPy library ,so a lot of the operators works the same for np array and pd series or dataframe**"
   ]
  },
  {
   "attachments": {},
   "cell_type": "markdown",
   "metadata": {},
   "source": [
    "## Series\n",
    "A one dimensional labeled array capable of holding any data type"
   ]
  },
  {
   "attachments": {},
   "cell_type": "markdown",
   "metadata": {},
   "source": [
    "### Defining a pd series"
   ]
  },
  {
   "cell_type": "code",
   "execution_count": 111,
   "metadata": {},
   "outputs": [],
   "source": [
    "s1=pd.Series([0,1,2,3,4,5],dtype='int32')          # creating pd series we can define the data type\n",
    "s2=pd.Series([6,7,8,9,10,11],index=['a','b','c','d','e','f']) # giving an custom index for the series (the default numeric index) ((we can write index=list('abcdef'))\n",
    "s3=pd.Series({'a':0,'b':1,'c':2,'d':3,'e':4,'f':5}) # giving an custom index for the series (the keys represent the index and value represent the data) \n",
    "s4=pd.Series(8,range(5),name='s4')          # creating pd series with the value 8 for 5 times with the name of s4"
   ]
  },
  {
   "attachments": {},
   "cell_type": "markdown",
   "metadata": {},
   "source": [
    "## Dataframe\n",
    "A two dimensional labeled data structure with columns of potentially different types"
   ]
  },
  {
   "attachments": {},
   "cell_type": "markdown",
   "metadata": {},
   "source": [
    "### Defining a pd dataframe "
   ]
  },
  {
   "cell_type": "code",
   "execution_count": 144,
   "metadata": {},
   "outputs": [],
   "source": [
    "data = {\n",
    "    'a': [1, 2, 3],\n",
    "    'b': [5, 8, 4]\n",
    "}\n",
    "df = pd.DataFrame(data)\n",
    "df1=pd.DataFrame([[1,2,3,4],[5,6,7,8]],columns=['a','b','c','d'],index=['r1','r2']) # creating a data frame (2,4)with custom colums names and indexes\n",
    "numpy_array=np.array([[1,2,3],[4,5,6],[7,8,9]])    # creating numby array\n",
    "df2=pd.DataFrame(numpy_array)           # creating a data frame from numby array\n",
    "df3=pd.DataFrame({'a':s3,'b':s2})       # creating a data farme from sereis also with given column names\n",
    "\n",
    "df4=pd.DataFrame([[1,2,3,4],[5,6,7,8]],columns=['a','b','c','d'])\n",
    "df5=pd.DataFrame([[9,10,11]],columns=['a','b','c'])"
   ]
  },
  {
   "attachments": {},
   "cell_type": "markdown",
   "metadata": {},
   "source": [
    "## Retrieving Series/DataFrame Information"
   ]
  },
  {
   "attachments": {},
   "cell_type": "markdown",
   "metadata": {},
   "source": [
    "### Series/DataFrame operations"
   ]
  },
  {
   "attachments": {},
   "cell_type": "markdown",
   "metadata": {},
   "source": [
    "#### basic operation"
   ]
  },
  {
   "cell_type": "code",
   "execution_count": 113,
   "metadata": {},
   "outputs": [
    {
     "name": "stdout",
     "output_type": "stream",
     "text": [
      "the df1 :\n",
      "    a  b  c  d\n",
      "r1  1  2  3  4\n",
      "r2  5  6  7  8\n",
      "df1.size :8\n",
      "df1.shape :(2, 4)\n",
      "df1.index :Index(['r1', 'r2'], dtype='object')\n",
      "df1.columns :Index(['a', 'b', 'c', 'd'], dtype='object')\n",
      "df1['a'].dtype :int64\n"
     ]
    }
   ],
   "source": [
    "print(f\"the df1 :\\n{df1}\")\n",
    "print(f\"df1.size :{df1.size}\")             # the size of the df1\n",
    "print(f\"df1.shape :{df1.shape}\")           # the shape of the df1 (number of rows , number of columns)\n",
    "print(f\"df1.index :{df1.index}\")           # the indexes of the df1\n",
    "print(f\"df1.columns :{df1.columns}\")       # the columns names of the (((works with dataframes only)))\n",
    "print(f\"df1['a'].dtype :{df1['a'].dtype}\") # to get the data type for an series we user series.dtype but for a dataframe we need to spicify an columns"
   ]
  },
  {
   "attachments": {},
   "cell_type": "markdown",
   "metadata": {},
   "source": [
    "#### statistical operations"
   ]
  },
  {
   "cell_type": "code",
   "execution_count": 114,
   "metadata": {},
   "outputs": [
    {
     "name": "stdout",
     "output_type": "stream",
     "text": [
      "df1.mean :a    3.0\n",
      "b    4.0\n",
      "c    5.0\n",
      "d    6.0\n",
      "dtype: float64\n",
      "df1.median :a    3.0\n",
      "b    4.0\n",
      "c    5.0\n",
      "d    6.0\n",
      "dtype: float64\n",
      "df1.count :a    2\n",
      "b    2\n",
      "c    2\n",
      "d    2\n",
      "dtype: int64\n",
      "df1.sum :a     6\n",
      "b     8\n",
      "c    10\n",
      "d    12\n",
      "dtype: int64\n",
      "df1.cumsum :    a  b   c   d\n",
      "r1  1  2   3   4\n",
      "r2  6  8  10  12\n",
      "df1.min :a    1\n",
      "b    2\n",
      "c    3\n",
      "d    4\n",
      "dtype: int64\n",
      "df1.max :a    5\n",
      "b    6\n",
      "c    7\n",
      "d    8\n",
      "dtype: int64\n",
      "df1.idxmin :a    r1\n",
      "b    r1\n",
      "c    r1\n",
      "d    r1\n",
      "dtype: object\n",
      "df1.idxmax :a    r2\n",
      "b    r2\n",
      "c    r2\n",
      "d    r2\n",
      "dtype: object\n",
      "df1.describe :              a         b         c         d\n",
      "count  2.000000  2.000000  2.000000  2.000000\n",
      "mean   3.000000  4.000000  5.000000  6.000000\n",
      "std    2.828427  2.828427  2.828427  2.828427\n",
      "min    1.000000  2.000000  3.000000  4.000000\n",
      "25%    2.000000  3.000000  4.000000  5.000000\n",
      "50%    3.000000  4.000000  5.000000  6.000000\n",
      "75%    4.000000  5.000000  6.000000  7.000000\n",
      "max    5.000000  6.000000  7.000000  8.000000\n"
     ]
    }
   ],
   "source": [
    "print(f\"df1.mean :{df1.mean()}\")        # the mean of the df1  ((we can write axis=0 or axis=1 to claculate the mean for rows or columns))\n",
    "print(f\"df1.median :{df1.median()}\")    # the median of the df1 \n",
    "print(f\"df1.count :{df1.count()}\")      # the count of null values\n",
    "print(f\"df1.sum :{df1.sum()}\")          # the sum of the value in the df1 \n",
    "print(f\"df1.cumsum :{df1.cumsum()}\")    # the cummulative sum of values\n",
    "print(f\"df1.min :{df1.min()}\")          # the min value of the df1 \n",
    "print(f\"df1.max :{df1.max()}\")          # the max value of the df1 \n",
    "print(f\"df1.idxmin :{df1.idxmin()}\")    # the min index value of the df1 \n",
    "print(f\"df1.idxmax :{df1.idxmax()}\")    # the max index value of the df1 \n",
    "print(f\"df1.describe :{df1.describe()}\")# Summary statistics(count,mean,std,min,25%,50%,75%,max) for every column"
   ]
  },
  {
   "attachments": {},
   "cell_type": "markdown",
   "metadata": {},
   "source": [
    "#### Mathematical Operations "
   ]
  },
  {
   "cell_type": "code",
   "execution_count": 143,
   "metadata": {},
   "outputs": [
    {
     "name": "stdout",
     "output_type": "stream",
     "text": [
      "df4:\n",
      "   a  b  c  d\n",
      "0  1  2  3  4\n",
      "1  5  6  7  8\n",
      "df5:\n",
      "   a   b   c\n",
      "0  9  10  11\n",
      "df4.add(df5,fill_value=0) =\n",
      "      a     b     c   d\n",
      "0  10.0  12.0  14.0 NaN\n",
      "1   NaN   NaN   NaN NaN\n",
      "df4.sub(df5,fill_value=0) =\n",
      "     a    b    c    d\n",
      "0 -8.0 -8.0 -8.0  4.0\n",
      "1  5.0  6.0  7.0  8.0\n",
      "df4.div(df5,fill_value=1) =\n",
      "          a    b         c    d\n",
      "0  0.111111  0.2  0.272727  4.0\n",
      "1  5.000000  6.0  7.000000  8.0\n",
      "df4.mul(df5,fill_value=2) =\n",
      "      a     b     c     d\n",
      "0   9.0  20.0  33.0   8.0\n",
      "1  10.0  12.0  14.0  16.0\n"
     ]
    }
   ],
   "source": [
    "print(f\"df4:\\n{df4}\")\n",
    "print(f\"df5:\\n{df5}\")\n",
    "print(f\"df4.add(df5,fill_value=0) =\\n{df4.add(df5)}\")               # adding values from diffrent dataframes (NaN values are introduced in the indices that don t overlap)\n",
    "print(f\"df4.sub(df5,fill_value=0) =\\n{df4.sub(df5,fill_value=0)}\")  # substacting values from diffrent dataframes and filling NaN(null) value with 0\n",
    "print(f\"df4.div(df5,fill_value=1) =\\n{df4.div(df5,fill_value=1)}\")\n",
    "print(f\"df4.mul(df5,fill_value=2) =\\n{df4.mul(df5,fill_value=2)}\")"
   ]
  },
  {
   "attachments": {},
   "cell_type": "markdown",
   "metadata": {},
   "source": [
    "## Getting,Selecting, Boolean Indexing & Setting"
   ]
  },
  {
   "attachments": {},
   "cell_type": "markdown",
   "metadata": {},
   "source": [
    "#### Getting"
   ]
  },
  {
   "cell_type": "code",
   "execution_count": 116,
   "metadata": {},
   "outputs": [
    {
     "name": "stdout",
     "output_type": "stream",
     "text": [
      "df1 :\n",
      "    a  b  c  d\n",
      "r1  1  2  3  4\n",
      "r2  5  6  7  8\n",
      "df1['b'] :\n",
      "r1    2\n",
      "r2    6\n",
      "Name: b, dtype: int64\n",
      "df1[1:] :\n",
      "    a  b  c  d\n",
      "r2  5  6  7  8\n",
      "s3 :\n",
      "a    0\n",
      "b    1\n",
      "c    2\n",
      "d    3\n",
      "e    4\n",
      "f    5\n",
      "dtype: int64\n",
      "s3['a'] :\n",
      "0\n",
      "s3[['a','e']] :\n",
      "a    0\n",
      "e    4\n",
      "dtype: int64\n",
      "s3['a':'c'] :\n",
      "a    0\n",
      "b    1\n",
      "c    2\n",
      "dtype: int64\n"
     ]
    }
   ],
   "source": [
    "print(f\"df1 :\\n{df1}\")           # geting from dataframe\n",
    "print(f\"df1['b'] :\\n{df1['b']}\") # get one element or one column \n",
    "print(f\"df1[1:] :\\n{df1[1:]}\")   # get subset of a DataFrame\n",
    "\n",
    "print(f\"s3 :\\n{s3}\")                # geting from series\n",
    "print(f\"s3['a'] :\\n{s3['a']}\")              # get one element  \n",
    "print(f\"s3[['a','e']] :\\n{s3[['a','e']]}\")  # get more than one element\n",
    "print(f\"s3['a':'c'] :\\n{s3['a':'c']}\")      # get subset of a DataFrame"
   ]
  },
  {
   "attachments": {},
   "cell_type": "markdown",
   "metadata": {},
   "source": [
    "#### selecting by Position"
   ]
  },
  {
   "cell_type": "code",
   "execution_count": 117,
   "metadata": {},
   "outputs": [
    {
     "name": "stdout",
     "output_type": "stream",
     "text": [
      "df1 :\n",
      "    a  b  c  d\n",
      "r1  1  2  3  4\n",
      "r2  5  6  7  8\n",
      "df1.iloc[[0],[0]] :\n",
      "    a\n",
      "r1  1\n",
      "df1.iat[0,0] :\n",
      "1\n",
      "df1.iat[0,0] :\n",
      "a    1\n",
      "b    2\n",
      "c    3\n",
      "Name: r1, dtype: int64\n"
     ]
    }
   ],
   "source": [
    "print(f\"df1 :\\n{df1}\")           \n",
    "print(f\"df1.iloc[[0],[0]] :\\n{df1.iloc[[0],[0]]}\")    # Select single value by row & column using the its index\n",
    "print(f\"df1.iat[0,0] :\\n{df1.iat[0,0]}\")              # Select single value by row & column using the its index\n",
    "print(f\"df1.iat[0,0] :\\n{df1.iloc[0,0:3]}\") "
   ]
  },
  {
   "attachments": {},
   "cell_type": "markdown",
   "metadata": {},
   "source": [
    "#### selecting by Label"
   ]
  },
  {
   "cell_type": "code",
   "execution_count": 118,
   "metadata": {},
   "outputs": [
    {
     "name": "stdout",
     "output_type": "stream",
     "text": [
      "df1 :\n",
      "    a  b  c  d\n",
      "r1  1  2  3  4\n",
      "r2  5  6  7  8\n",
      "df1.iloc[[0],[0]] :\n",
      "    a\n",
      "r1  1\n",
      "df1.iat[0,0] :\n",
      "2\n"
     ]
    }
   ],
   "source": [
    "print(f\"df1 :\\n{df1}\")           \n",
    "print(f\"df1.iloc[[0],[0]] :\\n{df1.loc[['r1'],['a']]}\")    # Select single value by row & column using the its index\n",
    "print(f\"df1.iat[0,0] :\\n{df1.at['r1','b']}\")              # Select single value by row & column using the its index\n"
   ]
  },
  {
   "attachments": {},
   "cell_type": "markdown",
   "metadata": {},
   "source": [
    "#### Boolean Indexing\n"
   ]
  },
  {
   "cell_type": "code",
   "execution_count": 119,
   "metadata": {},
   "outputs": [
    {
     "name": "stdout",
     "output_type": "stream",
     "text": [
      "df1 :\n",
      "    a  b  c  d\n",
      "r1  1  2  3  4\n",
      "r2  5  6  7  8\n",
      "df1[df1>3] :\n",
      "    a    b    c  d\n",
      "r1  1  NaN  NaN  4\n",
      "r2  5  6.0  7.0  8\n"
     ]
    }
   ],
   "source": [
    "print(f\"df1 :\\n{df1}\")           \n",
    "print(f\"df1[df1>3] :\\n{df1[(df1>3)|(df1==1)]}\")\n"
   ]
  },
  {
   "attachments": {},
   "cell_type": "markdown",
   "metadata": {},
   "source": [
    "#### Setting"
   ]
  },
  {
   "cell_type": "code",
   "execution_count": 120,
   "metadata": {},
   "outputs": [
    {
     "name": "stdout",
     "output_type": "stream",
     "text": [
      "df1[['r1'],['a']] = 6\n",
      "     a  b  c  d\n",
      "r1  10  2  3  4\n",
      "r2   5  6  7  8\n"
     ]
    }
   ],
   "source": [
    "df1.loc[['r1'],['a']] = 10\n",
    "print(f\"df1[['r1'],['a']] = 6\\n{df1}\") #Set index a of Series s to custom value"
   ]
  },
  {
   "attachments": {},
   "cell_type": "markdown",
   "metadata": {},
   "source": [
    "## Dropping"
   ]
  },
  {
   "cell_type": "code",
   "execution_count": 121,
   "metadata": {},
   "outputs": [
    {
     "name": "stdout",
     "output_type": "stream",
     "text": [
      "df1 :\n",
      "     a  b  c  d\n",
      "r1  10  2  3  4\n",
      "r2   5  6  7  8\n",
      "df1.drop(['r1']) :\n",
      "    a  b  c  d\n",
      "r2  5  6  7  8\n",
      "df1.drop(['r1']) :\n",
      "    b  d\n",
      "r1  2  4\n",
      "r2  6  8\n"
     ]
    }
   ],
   "source": [
    "print(f\"df1 :\\n{df1}\")           \n",
    "print(f\"df1.drop(['r1']) :\\n{df1.drop(['r1'])}\") # deleting row (axis=0) ((same as df1.drop(axis=0,index='r1')))\n",
    "print(f\"df1.drop(['r1']) :\\n{df1.drop(columns=['a','c'])}\") # deleting column (axis=1) \n"
   ]
  },
  {
   "attachments": {},
   "cell_type": "markdown",
   "metadata": {},
   "source": [
    "## Sort & Rank\n",
    " Dataframe.rank() method returns a rank of every respective index of a series passed. The rank is returned on the basis of position after sorting.\n",
    " \n",
    "**Parameters:**\n",
    "* axis: 0 or ‘index’ for rows and 1 or ‘columns’ for Column.\n",
    "* method: Takes a string input(‘average’, ‘min’, ‘max’, ‘first’, ‘dense’) which tells pandas what to do with same values. Default is average which means assign average of ranks to the similar values.\n",
    "* numeric_only: Takes a boolean value and the rank function works on non-numeric value only if it’s False.\n",
    "* na_option: Takes 3 string input(‘keep’, ‘top’, ‘bottom’) to set position of Null values if any in the passed Series.\n",
    "* ascending: Boolean value which ranks in ascending order if True.\n",
    "* pct: Boolean value which ranks percentage wise if True."
   ]
  },
  {
   "cell_type": "code",
   "execution_count": 122,
   "metadata": {},
   "outputs": [
    {
     "name": "stdout",
     "output_type": "stream",
     "text": [
      "df1 :\n",
      "     a  b  c  d\n",
      "r1  10  2  3  4\n",
      "r2   5  6  7  8\n",
      "df1.sort_index() :\n",
      "     a  b  c  d\n",
      "r2   5  6  7  8\n",
      "r1  10  2  3  4\n",
      "df1.sort_values(by='a') :\n",
      "     a  b  c  d\n",
      "r2   5  6  7  8\n",
      "r1  10  2  3  4\n",
      "df1['a'].rank() :\n",
      "r1    2.0\n",
      "r2    1.0\n",
      "Name: a, dtype: float64\n"
     ]
    }
   ],
   "source": [
    "print(f\"df1 :\\n{df1}\")           \n",
    "print(f\"df1.sort_index() :\\n{df1.sort_index(ascending=False)}\") # Sort by labels along an axis(sort in ascending by default)\n",
    "print(f\"df1.sort_values(by='a') :\\n{df1.sort_values(by= 'a')}\") # sort by values along an axis \n",
    "print(f\"df1['a'].rank() :\\n{df1['a'].rank()}\") \n",
    "\n"
   ]
  },
  {
   "attachments": {},
   "cell_type": "markdown",
   "metadata": {},
   "source": [
    "## Applying Function"
   ]
  },
  {
   "cell_type": "code",
   "execution_count": 123,
   "metadata": {},
   "outputs": [
    {
     "name": "stdout",
     "output_type": "stream",
     "text": [
      "df1=\n",
      "     a  b  c  d\n",
      "r1  10  2  3  4\n",
      "r2   5  6  7  8\n",
      "df1.apply(lambda df:df*2)=\n",
      "     a  b  c  d\n",
      "r2   5  6  7  8\n",
      "r1  10  2  3  4\n",
      "df1.applymap(lambda df:df*2)=\n",
      "     a   b   c   d\n",
      "r1  20   4   6   8\n",
      "r2  10  12  14  16\n"
     ]
    }
   ],
   "source": [
    "print(f\"df1=\\n{df1}\")\n",
    "print(f\"df1.apply(lambda df:df*2)=\\n{df1.apply(lambda df:df.sort_index(ascending=False),axis=0)}\")       # Apply function operates on entire rows or columns at a time for Dataframe, and one at a time for Series.apply\n",
    "print(f\"df1.applymap(lambda df:df*2)=\\n{df1.applymap(lambda df:df*2)}\")                    # applymap function Operate on one element at a time"
   ]
  },
  {
   "attachments": {},
   "cell_type": "markdown",
   "metadata": {},
   "source": [
    "## Read & Write file"
   ]
  },
  {
   "attachments": {},
   "cell_type": "markdown",
   "metadata": {},
   "source": [
    "### to CSV"
   ]
  },
  {
   "cell_type": "code",
   "execution_count": 124,
   "metadata": {},
   "outputs": [
    {
     "name": "stdout",
     "output_type": "stream",
     "text": [
      "new_df_from_csv=\n",
      "  Unnamed: 0   a  b  c  d\n",
      "0         r1  10  2  3  4\n"
     ]
    }
   ],
   "source": [
    "df1.to_csv ('file_name.csv')        # writing a csv file with the name file_name.csv \n",
    "new_df_from_csv=pd.read_csv('file_name.csv',index_col=None,  nrows=1 ) # importing a csv file with the name file_name.csv \n",
    "print(f\"new_df_from_csv=\\n{new_df_from_csv}\")\n"
   ]
  },
  {
   "attachments": {},
   "cell_type": "markdown",
   "metadata": {},
   "source": [
    "### to Excel"
   ]
  },
  {
   "cell_type": "code",
   "execution_count": 58,
   "metadata": {},
   "outputs": [
    {
     "name": "stdout",
     "output_type": "stream",
     "text": [
      "new_df_from_excel=\n",
      "  Unnamed: 0   a  b  c  d\n",
      "0         r1  10  2  3  4\n",
      "1         r2   5  6  7  8\n"
     ]
    }
   ],
   "source": [
    "df1.to_excel( 'file_name.xlsx', sheet_name='Sheet1' )\n",
    "new_df_from_excel=pd.read_excel('file_name.xlsx')\n",
    "print(f\"new_df_from_excel=\\n{new_df_from_excel}\")"
   ]
  }
 ],
 "metadata": {
  "kernelspec": {
   "display_name": "Python 3",
   "language": "python",
   "name": "python3"
  },
  "language_info": {
   "codemirror_mode": {
    "name": "ipython",
    "version": 3
   },
   "file_extension": ".py",
   "mimetype": "text/x-python",
   "name": "python",
   "nbconvert_exporter": "python",
   "pygments_lexer": "ipython3",
   "version": "3.10.7"
  },
  "orig_nbformat": 4,
  "vscode": {
   "interpreter": {
    "hash": "369f2c481f4da34e4445cda3fffd2e751bd1c4d706f27375911949ba6bb62e1c"
   }
  }
 },
 "nbformat": 4,
 "nbformat_minor": 2
}
